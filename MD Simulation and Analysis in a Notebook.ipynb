{
 "cells": [
  {
   "cell_type": "markdown",
   "metadata": {},
   "source": [
    "# Molecular Dynamics Simulation and Analysis in a Notebook\n",
    "\n",
    "Python is the perfect glue language, with big emphasis on readability and an awesome ecosystem of packages for all kind of areas, ranging from web development or machine learning to the most interesting science. In this short tutorial, we will focus on molecular dynamics as provided by the [Omnia](http://www.omnia.md) project.\n",
    "\n",
    "Omnia is a compilation of diverse packages for chemistry simulations, but its main pillar is [OpenMM](http://openmm.org/): “a toolkit for molecular simulation using high performance GPU code”. While written in C++/CUDA/OpenCL, it also offers rich APIs in Python. A good number of several other packages use OpenMM or provide additional functionalities, such as [pdbfixer](https://github.com/pandegroup/pdbfixer) (preparation and cleaning), [mdtraj](http://mdtraj.org/1.8.0/) or [pytraj](https://amber-md.github.io/pytraj/) (analysis), [nglview](http://arose.github.io/nglview/latest/) (visualization), [parmed](http://parmed.github.io/ParmEd/html/index.html) (converters between different MD programs) or [openmoltools](https://github.com/choderalab/openmoltools) (a bit of everything, actually).\n",
    "\n",
    "We will use all of them at some point of the tutorial, outlined here:\n",
    "\n",
    "**Part A**\n",
    "\n",
    "1. Prepare an environment for MDs with conda\n",
    "2. Download, clean and prepare structures from PDB\n",
    "3. Set up an OpenMM MD simulation from scratch\n",
    "\n",
    "**Part B**\n",
    "\n",
    "1. Preview the MD movie in the notebook with nglview\n",
    "2. MD Analysis with pytraj or mdtraj\n",
    "3. Custom clustering with the scipy stack\n",
    "\n",
    "----------------"
   ]
  },
  {
   "cell_type": "markdown",
   "metadata": {},
   "source": [
    "# A.1 - Prepare the environment\n",
    "\n",
    "First, create a new Python 3.7 environment and name it freely.\n",
    "\n",
    "```\n",
    "conda create -n openmm python=3.7\n",
    "```\n",
    "\n",
    "The following packages will be required along the tutorial:\n",
    "\n",
    "- openmm\n",
    "- mdtraj\n",
    "- pdbfixer\n",
    "- nglview\n",
    "- parmed\n",
    "- openmoltools\n",
    "\n",
    "However, they are not provided in the standard (`defaults`) `conda` channels like `numpy` or `ipython`. They are hosted in the `omnia` channel, so we need to specify that with the `-c` switch:\n",
    "\n",
    "```\n",
    "!conda install -y -c omnia openmm mdtraj pdbfixer parmed openmoltools\n",
    "```\n",
    "\n",
    "`nglview` is not up-to-date in the omnia channel, but it is in `bioconda`:\n",
    "\n",
    "```\n",
    "!conda install -y -c bioconda nglview\n",
    "!jupyter-nbextension enable nglview --py --user # only if it does not work\n",
    "```\n",
    "\n",
    "That's it! Now, try to import this packages to test if they are correctly installed."
   ]
  },
  {
   "cell_type": "markdown",
   "metadata": {},
   "source": [
    "# A.2 - Download and prepare your structure\n",
    "\n",
    "_Disclaimer: This tutorial is not meant as a MD crash course, but as an exercise to play with Python capabilities in science. Hence, I am not trying to be very cautious about the MD simulation itself. We will use small structures that will allow us to progress rapidly with a modest computer. Remember, we don't care about the MD, only the setup process!_\n",
    "\n",
    "To run a proper MD, we need to download the structure from some place (PDB, for example), but that's only the first step. Sometimes, the structures are not complete, or include wrong residue names. Some include non-natural residues! Depending on the origin of the files, hydrogens must be added, and depending on which kind of simulation we want to run, we might need to solvate the structure (ie, surround the molecule with a box of waters). While that can be easily attained with Chimera or another GUI programs, we are going to use Python tools... Just because.\n",
    "\n",
    "Another benefit of learning this procedure is that you could automatize the same pipeline for hundreds of files... :)\n",
    "\n",
    "So... First! Download the structure. `parmed` comes handy here."
   ]
  },
  {
   "cell_type": "code",
   "execution_count": 1,
   "metadata": {},
   "outputs": [
    {
     "data": {
      "application/vnd.jupyter.widget-view+json": {
       "model_id": "044cfac14f774dec9a9c7ae8331c00c3",
       "version_major": 2,
       "version_minor": 0
      },
      "text/plain": [
       "NGLWidget(count=10)"
      ]
     },
     "metadata": {},
     "output_type": "display_data"
    }
   ],
   "source": [
    "import parmed as pmd\n",
    "mol = pmd.download_PDB('1rfo')\n",
    "mol.visualize()"
   ]
  },
  {
   "cell_type": "markdown",
   "metadata": {},
   "source": [
    "`1RFO` is a trimer. Let's suppose we only want to run the MD with one of the monomers... Let's download the PDB with `mdtraj` (alternative possibility), meant for trajectory analysis, but also features a handy [selection language](http://mdtraj.org/latest/atom_selection.html)."
   ]
  },
  {
   "cell_type": "code",
   "execution_count": 3,
   "metadata": {},
   "outputs": [
    {
     "name": "stderr",
     "output_type": "stream",
     "text": [
      "/home/jrodriguez/.local/anaconda/envs/openmm/lib/python3.5/site-packages/mdtraj/formats/pdb/pdbfile.py:196: UserWarning: Unlikely unit cell vectors detected in PDB file likely resulting from a dummy CRYST1 record. Discarding unit cell vectors.\n",
      "  warnings.warn('Unlikely unit cell vectors detected in PDB file likely '\n"
     ]
    },
    {
     "data": {
      "text/plain": [
       "<mdtraj.Topology with 3 chains, 81 residues, 1296 atoms, 1314 bonds at 0x7f3acd0237b8>"
      ]
     },
     "execution_count": 3,
     "metadata": {},
     "output_type": "execute_result"
    }
   ],
   "source": [
    "import mdtraj as md\n",
    "trimer = md.load_pdb('http://www.rcsb.org/pdb/files/1RFO.pdb')\n",
    "trimer.topology # evaluate to obtain relevant info"
   ]
  },
  {
   "cell_type": "code",
   "execution_count": 5,
   "metadata": {},
   "outputs": [
    {
     "data": {
      "text/plain": [
       "<mdtraj.Trajectory with 10 frames, 432 atoms, 27 residues, without unitcells at 0x7f3acc77fb38>"
      ]
     },
     "execution_count": 5,
     "metadata": {},
     "output_type": "execute_result"
    }
   ],
   "source": [
    "# Select only the first chain\n",
    "indices = trimer.topology.select('chainid 0')\n",
    "monomer = trimer.atom_slice(indices)\n",
    "monomer"
   ]
  },
  {
   "cell_type": "code",
   "execution_count": 6,
   "metadata": {},
   "outputs": [
    {
     "data": {
      "application/vnd.jupyter.widget-view+json": {
       "model_id": "c9312d109c524e74bf364a55e535c630",
       "version_major": 2,
       "version_minor": 0
      },
      "text/plain": [
       "NGLWidget(count=10)"
      ]
     },
     "metadata": {},
     "output_type": "display_data"
    }
   ],
   "source": [
    "# Check everything is OK\n",
    "import nglview as nv\n",
    "nv.show_mdtraj(monomer)"
   ]
  },
  {
   "cell_type": "code",
   "execution_count": 7,
   "metadata": {},
   "outputs": [
    {
     "data": {
      "text/plain": [
       "array([  4,   5,   6,   7,   8,  21,  22,  23,  24,  25,  26,  27,  28,\n",
       "        29,  38,  39,  40,  41,  42,  43,  44,  45,  46,  47,  48,  56,\n",
       "        57,  58,  59,  60,  61,  62,  72,  73,  74,  75,  76,  77,  83,\n",
       "        84,  85,  86,  87,  95,  96,  97,  98,  99, 100, 101, 113, 114,\n",
       "       115, 116, 117, 118, 119, 120, 121, 122, 123, 124, 125, 134, 135,\n",
       "       136, 137, 142, 143, 144, 154, 155, 156, 157, 158, 159, 160, 161,\n",
       "       167, 168, 169, 170, 171, 184, 185, 186, 187, 188, 189, 190, 191,\n",
       "       192, 200, 201, 202, 203, 204, 205, 206, 207, 208, 220, 221, 222,\n",
       "       223, 224, 225, 226, 227, 228, 229, 230, 231, 232, 242, 243, 244,\n",
       "       245, 246, 247, 248, 249, 250, 251, 252, 253, 254, 263, 264, 265,\n",
       "       266, 271, 272, 273, 283, 284, 285, 286, 287, 288, 303, 304, 305,\n",
       "       306, 307, 308, 309, 310, 311, 312, 320, 321, 322, 323, 324, 325,\n",
       "       326, 327, 328, 337, 338, 339, 340, 341, 342, 343, 344, 345, 346,\n",
       "       347, 356, 357, 358, 359, 360, 361, 362, 363, 364, 365, 366, 373,\n",
       "       374, 375, 376, 377, 385, 386, 387, 388, 389, 390, 391, 403, 404,\n",
       "       405, 406, 407, 408, 409, 410, 411, 421, 422, 423, 424, 425, 426,\n",
       "       427, 428, 429, 430, 431])"
      ]
     },
     "execution_count": 7,
     "metadata": {},
     "output_type": "execute_result"
    }
   ],
   "source": [
    "# Do we have hydrogens already?\n",
    "monomer.top.select('element H')"
   ]
  },
  {
   "cell_type": "markdown",
   "metadata": {},
   "source": [
    "So far, so good. Looks like the structure is ready! If it weren't, `pdbfixer` could be applied."
   ]
  },
  {
   "cell_type": "markdown",
   "metadata": {},
   "source": [
    "# A.3 - Set up an openMM calculation!\n",
    "\n",
    "The `mdtraj` objects contain all the necessary information about the molecule we need: the topology and its coordinates. We only need to choose a forcefield and then some technical details of the simulation itself."
   ]
  },
  {
   "cell_type": "code",
   "execution_count": 8,
   "metadata": {},
   "outputs": [
    {
     "name": "stdout",
     "output_type": "stream",
     "text": [
      "Setting initial positions\n",
      "Minimizing...\n",
      "#\"Progress (%)\"\t\"Step\"\t\"Potential Energy (kJ/mole)\"\t\"Temperature (K)\"\t\"Speed (ns/day)\"\t\"Time Remaining\"\n",
      "1.0%\t1000\t-3912.419189453125\t255.1403017417056\t0\t--\n",
      "2.0%\t2000\t-3799.124755859375\t283.11515822247424\t582\t0:14\n",
      "3.0%\t3000\t-3674.298095703125\t308.12782733174953\t601\t0:13\n",
      "4.0%\t4000\t-3684.833740234375\t295.1534053639397\t607\t0:13\n",
      "5.0%\t5000\t-3806.055908203125\t306.961528638708\t609\t0:13\n",
      "6.0%\t6000\t-3845.111328125\t310.67067889418325\t594\t0:13\n",
      "7.0%\t7000\t-3695.0908203125\t306.81679170725835\t596\t0:13\n",
      "8.0%\t8000\t-3758.9013671875\t298.61258497957044\t597\t0:13\n",
      "9.0%\t9000\t-3632.8154296875\t291.52349107897453\t597\t0:13\n",
      "10.0%\t10000\t-3664.41162109375\t310.9290248895392\t597\t0:13\n",
      "11.0%\t11000\t-3773.478515625\t299.13939652405037\t597\t0:12\n",
      "12.0%\t12000\t-3664.970703125\t302.67442193913104\t578\t0:13\n",
      "13.0%\t13000\t-3647.97314453125\t312.99146268667556\t566\t0:13\n",
      "14.0%\t14000\t-3760.64306640625\t301.47680143539657\t553\t0:13\n",
      "15.0%\t15000\t-3659.640625\t298.40482426590074\t543\t0:13\n",
      "16.0%\t16000\t-3750.9033203125\t277.9339111008682\t546\t0:13\n",
      "17.0%\t17000\t-3806.254150390625\t284.0794876891146\t549\t0:13\n",
      "18.0%\t18000\t-3604.528564453125\t262.35879989021754\t553\t0:12\n",
      "19.0%\t19000\t-3780.028564453125\t286.2416137589961\t555\t0:12\n",
      "20.0%\t20000\t-3801.136474609375\t278.3202014015979\t558\t0:12\n",
      "21.0%\t21000\t-3708.656982421875\t280.03189411956623\t560\t0:12\n",
      "22.0%\t22000\t-3708.0107421875\t293.7886462700308\t563\t0:11\n",
      "23.0%\t23000\t-3730.06884765625\t298.99313393513603\t564\t0:11\n",
      "24.0%\t24000\t-3742.56982421875\t297.9574054846186\t559\t0:11\n",
      "25.0%\t25000\t-3722.419921875\t323.73305548131947\t551\t0:11\n",
      "26.0%\t26000\t-3617.74560546875\t292.7293363326272\t553\t0:11\n",
      "27.0%\t27000\t-3720.60595703125\t301.28902700372026\t554\t0:11\n",
      "28.0%\t28000\t-3748.8408203125\t303.5723739547896\t556\t0:11\n",
      "29.0%\t29000\t-3812.727294921875\t305.0808673594874\t558\t0:10\n",
      "30.0%\t30000\t-3764.34228515625\t302.3649755923602\t560\t0:10\n",
      "31.0%\t31000\t-3810.065185546875\t307.59988129365286\t562\t0:10\n",
      "32.0%\t32000\t-3784.51025390625\t292.8560812028919\t559\t0:10\n",
      "33.0%\t33000\t-3735.146240234375\t299.8589668476414\t554\t0:10\n",
      "34.0%\t34000\t-3635.647216796875\t301.9056408189937\t555\t0:10\n",
      "35.0%\t35000\t-3709.749755859375\t305.7724598008482\t557\t0:10\n",
      "36.0%\t36000\t-3749.156494140625\t286.90512788032356\t558\t0:09\n",
      "37.0%\t37000\t-3663.1640625\t288.4916065505724\t558\t0:09\n",
      "38.0%\t38000\t-3713.674072265625\t287.4947694374799\t560\t0:09\n",
      "39.0%\t39000\t-3584.599365234375\t287.7820896037873\t561\t0:09\n",
      "40.0%\t40000\t-3719.69091796875\t323.62614172969216\t562\t0:09\n",
      "41.0%\t41000\t-3732.34033203125\t295.8140972196611\t563\t0:09\n",
      "42.0%\t42000\t-3640.459716796875\t303.4353928001559\t563\t0:08\n",
      "43.0%\t43000\t-3711.54296875\t291.8394150426518\t564\t0:08\n",
      "44.0%\t44000\t-3589.1650390625\t321.9818072301102\t565\t0:08\n",
      "45.0%\t45000\t-3743.32861328125\t298.22388433135427\t567\t0:08\n",
      "46.0%\t46000\t-3579.72021484375\t300.98306477226555\t564\t0:08\n",
      "47.0%\t47000\t-3599.2138671875\t316.8408960366888\t560\t0:08\n",
      "48.0%\t48000\t-3631.72265625\t288.4392452718049\t561\t0:08\n",
      "49.0%\t49000\t-3744.54345703125\t301.7210317571156\t561\t0:07\n",
      "50.0%\t50000\t-3602.35546875\t286.6430120842868\t558\t0:07\n",
      "51.0%\t51000\t-3638.01611328125\t308.24828160853536\t556\t0:07\n",
      "52.0%\t52000\t-3708.8935546875\t301.1719370932537\t556\t0:07\n",
      "53.0%\t53000\t-3670.3193359375\t306.5778730223913\t556\t0:07\n",
      "54.0%\t54000\t-3594.435302734375\t296.1965466072362\t557\t0:07\n",
      "55.0%\t55000\t-3605.58447265625\t317.4166602610022\t557\t0:06\n",
      "56.0%\t56000\t-3571.251953125\t300.05646006130894\t555\t0:06\n",
      "57.0%\t57000\t-3693.7705078125\t326.96076663080675\t552\t0:06\n",
      "58.0%\t58000\t-3616.3310546875\t306.1399818627573\t553\t0:06\n",
      "59.0%\t59000\t-3607.896728515625\t324.30227994775635\t554\t0:06\n",
      "60.0%\t60000\t-3580.207275390625\t323.2232175404115\t555\t0:06\n",
      "61.0%\t61000\t-3733.04296875\t315.6978294230763\t556\t0:06\n",
      "62.0%\t62000\t-3597.271484375\t286.337971251071\t557\t0:05\n",
      "63.0%\t63000\t-3600.22998046875\t320.4957958455029\t558\t0:05\n",
      "64.0%\t64000\t-3745.9501953125\t313.3981271958507\t558\t0:05\n",
      "65.0%\t65000\t-3749.006591796875\t293.731460360096\t556\t0:05\n",
      "66.0%\t66000\t-3765.334228515625\t304.55847225352295\t557\t0:05\n",
      "67.0%\t67000\t-3741.2890625\t318.0459479759179\t558\t0:05\n",
      "68.0%\t68000\t-3640.86083984375\t295.0653850342389\t558\t0:04\n",
      "69.0%\t69000\t-3794.205322265625\t319.1932311386324\t558\t0:04\n",
      "70.0%\t70000\t-3812.51318359375\t303.9289241386815\t555\t0:04\n",
      "71.0%\t71000\t-3709.5771484375\t302.74293024556636\t555\t0:04\n",
      "72.0%\t72000\t-3694.13720703125\t298.9777397176467\t553\t0:04\n",
      "73.0%\t73000\t-3723.738037109375\t305.2532880261148\t551\t0:04\n",
      "74.0%\t74000\t-3718.926513671875\t289.4929347645235\t551\t0:04\n",
      "75.0%\t75000\t-3621.745849609375\t275.26951273857145\t552\t0:03\n",
      "76.0%\t76000\t-3721.079345703125\t300.0220166488373\t552\t0:03\n",
      "77.0%\t77000\t-3686.07421875\t322.401279183664\t553\t0:03\n",
      "78.0%\t78000\t-3676.48095703125\t303.5737968912384\t553\t0:03\n",
      "79.0%\t79000\t-3772.57373046875\t288.22530072694883\t554\t0:03\n",
      "80.0%\t80000\t-3672.38623046875\t287.6955539439126\t555\t0:03\n",
      "81.0%\t81000\t-3779.01123046875\t312.84405692644555\t555\t0:02\n",
      "82.0%\t82000\t-3691.008544921875\t297.29186298282525\t556\t0:02\n",
      "83.0%\t83000\t-3744.86328125\t311.2703921177584\t557\t0:02\n",
      "84.0%\t84000\t-3881.615234375\t302.53777058695607\t557\t0:02\n",
      "85.0%\t85000\t-3761.157470703125\t304.693427401345\t556\t0:02\n",
      "86.0%\t86000\t-3812.009033203125\t286.83626821717576\t554\t0:02\n",
      "87.0%\t87000\t-3852.99169921875\t298.76031468816933\t554\t0:02\n",
      "88.0%\t88000\t-3816.6220703125\t326.86271404809065\t553\t0:01\n",
      "89.0%\t89000\t-3714.221435546875\t311.8507415408242\t551\t0:01\n",
      "90.0%\t90000\t-3670.736083984375\t311.7926654921615\t552\t0:01\n",
      "91.0%\t91000\t-3675.901611328125\t296.88794503423776\t552\t0:01\n",
      "92.0%\t92000\t-3704.190185546875\t326.6872316309446\t553\t0:01\n",
      "93.0%\t93000\t-3805.680908203125\t286.27176420213243\t553\t0:01\n",
      "94.0%\t94000\t-3803.348876953125\t297.9689803738306\t554\t0:00\n",
      "95.0%\t95000\t-3710.503173828125\t283.4268993607863\t554\t0:00\n",
      "96.0%\t96000\t-3760.884033203125\t282.8875948260259\t553\t0:00\n",
      "97.0%\t97000\t-3700.34228515625\t310.73530654127245\t551\t0:00\n",
      "98.0%\t98000\t-3706.4619140625\t302.8961849651263\t552\t0:00\n",
      "99.0%\t99000\t-3640.35205078125\t299.320620823075\t553\t0:00\n",
      "100.0%\t100000\t-3736.70947265625\t276.3179006480767\t553\t0:00\n"
     ]
    }
   ],
   "source": [
    "from simtk import unit\n",
    "import simtk.openmm as mm\n",
    "from simtk.openmm import app\n",
    "from sys import stdout\n",
    "\n",
    "# Molecule details - atoms, connectivity and positions\n",
    "topology = monomer.top.to_openmm()\n",
    "positions = monomer.xyz[0] # we only want the first 'frame' of the molecule; ie, one of the NMR models\n",
    "\n",
    "# Simulation details - the 'rules' of the game\n",
    "# In openMM, a simulation is built with a topology, its corresponding system and the integrator\n",
    "forcefield = app.ForceField('amber99sbildn.xml', 'amber99_obc.xml')\n",
    "system = forcefield.createSystem(topology, nonbondedMethod=app.CutoffNonPeriodic)\n",
    "integrator = mm.LangevinIntegrator(300*unit.kelvin, 1.0/unit.picoseconds, 1.0*unit.femtoseconds)\n",
    "simulation = app.Simulation(topology, system, integrator)\n",
    "\n",
    "print('Setting initial positions')\n",
    "simulation.context.setPositions(positions)\n",
    "\n",
    "print('Minimizing...')\n",
    "simulation.minimizeEnergy()\n",
    "\n",
    "# What kind of info do we want back?\n",
    "simulation.reporters.append(app.DCDReporter('trajectory_.dcd', 1000)) # the movie file\n",
    "# some realtime data on the progress of the sim\n",
    "simulation.reporters.append(app.StateDataReporter(stdout, 1000, step=True, \n",
    "    potentialEnergy=True, temperature=True, progress=True, remainingTime=True, \n",
    "    speed=True, totalSteps=1e5, separator='\\t'))\n",
    "\n",
    "simulation.context.setVelocitiesToTemperature(300*unit.kelvin) # Assign random but coherent vels\n",
    "\n",
    "# Run the thing alrady!\n",
    "simulation.step(1e5)\n",
    "\n"
   ]
  },
  {
   "cell_type": "markdown",
   "metadata": {},
   "source": [
    "# Play the trajectory\n",
    "\n",
    "MDTraj is really useful for this kind of stuff! "
   ]
  },
  {
   "cell_type": "code",
   "execution_count": 20,
   "metadata": {},
   "outputs": [
    {
     "data": {
      "application/vnd.jupyter.widget-view+json": {
       "model_id": "5fee965ab778442c8f0a32d448a27a97",
       "version_major": 2,
       "version_minor": 0
      },
      "text/plain": [
       "NGLWidget(count=100)"
      ]
     },
     "metadata": {},
     "output_type": "display_data"
    }
   ],
   "source": [
    "# Did we got it right?\n",
    "traj = md.load_dcd('trajectory_.dcd',  top=monomer.top)\n",
    "nv.show_mdtraj(traj)"
   ]
  },
  {
   "cell_type": "code",
   "execution_count": 23,
   "metadata": {},
   "outputs": [],
   "source": [
    "traj = traj.superpose(traj)"
   ]
  },
  {
   "cell_type": "code",
   "execution_count": 27,
   "metadata": {},
   "outputs": [],
   "source": [
    "rmsds = md.rmsd?"
   ]
  },
  {
   "cell_type": "code",
   "execution_count": null,
   "metadata": {},
   "outputs": [],
   "source": [
    "rmsds = md.rmsd"
   ]
  },
  {
   "cell_type": "code",
   "execution_count": 28,
   "metadata": {},
   "outputs": [
    {
     "data": {
      "text/plain": [
       "array([0.        , 0.10928389, 0.11783434, 0.1477965 , 0.19208157,\n",
       "       0.20257197, 0.20463501, 0.21371627, 0.25483242, 0.24471691,\n",
       "       0.27025995, 0.25876102, 0.2832585 , 0.2617139 , 0.25740445,\n",
       "       0.25476924, 0.2244741 , 0.22038634, 0.20579784, 0.23220263,\n",
       "       0.23265488, 0.28972477, 0.2686142 , 0.27404445, 0.26306516,\n",
       "       0.24396637, 0.25100985, 0.25079134, 0.28160116, 0.33680338,\n",
       "       0.35687238, 0.364234  , 0.36811307, 0.3647071 , 0.3888069 ,\n",
       "       0.40152544, 0.41966155, 0.40384197, 0.3899522 , 0.40278998,\n",
       "       0.38256994, 0.35712883, 0.33154985, 0.35154703, 0.40081313,\n",
       "       0.4147309 , 0.3863013 , 0.37033686, 0.37862107, 0.37823653,\n",
       "       0.35164106, 0.35520852, 0.3524708 , 0.3472838 , 0.35470998,\n",
       "       0.3879469 , 0.37487093, 0.32339868, 0.30009985, 0.29856536,\n",
       "       0.34217384, 0.35833737, 0.32796285, 0.3331824 , 0.3324482 ,\n",
       "       0.3189772 , 0.3352538 , 0.3428761 , 0.29553968, 0.24914207,\n",
       "       0.25530547, 0.23184885, 0.23824449, 0.2624519 , 0.279393  ,\n",
       "       0.3160544 , 0.30498043, 0.32833785, 0.32663763, 0.33662003,\n",
       "       0.31355458, 0.30816355, 0.2953405 , 0.28799576, 0.30564123,\n",
       "       0.3297034 , 0.34991273, 0.39237761, 0.34933305, 0.3171404 ,\n",
       "       0.28803524, 0.3139718 , 0.3138669 , 0.3305046 , 0.33096147,\n",
       "       0.33784673, 0.2945271 , 0.27212813, 0.26439694, 0.29454005],\n",
       "      dtype=float32)"
      ]
     },
     "execution_count": 28,
     "metadata": {},
     "output_type": "execute_result"
    }
   ],
   "source": [
    "rmsds = md.rmsd(traj, traj)\n",
    "rmsds"
   ]
  },
  {
   "cell_type": "code",
   "execution_count": 29,
   "metadata": {},
   "outputs": [],
   "source": [
    "from matplotlib import pyplot as plt\n",
    "%matplotlib notebook"
   ]
  },
  {
   "cell_type": "code",
   "execution_count": 31,
   "metadata": {},
   "outputs": [
    {
     "data": {
      "image/png": "[encoded data removed]",
      "text/plain": [
       "<Figure size 432x288 with 1 Axes>"
      ]
     },
     "metadata": {},
     "output_type": "display_data"
    }
   ],
   "source": [
    "p = plt.plot(rmsds)"
   ]
  }
 ],
 "metadata": {
  "kernelspec": {
   "display_name": "Python [default]",
   "language": "python",
   "name": "python3"
  },
  "language_info": {
   "codemirror_mode": {
    "name": "ipython",
    "version": 3
   },
   "file_extension": ".py",
   "mimetype": "text/x-python",
   "name": "python",
   "nbconvert_exporter": "python",
   "pygments_lexer": "ipython3",
   "version": "3.5.6"
  },
  "widgets": {
   "state": {
    "01e86e7370744bf183d219a53fde39dd": {
     "views": [
      {
       "cell_index": 4
      }
     ]
    },
    "100e169efd984cfaacdbf17d3c34909f": {
     "views": [
      {
       "cell_index": 7
      }
     ]
    },
    "1dfdac9e5eec4c048ba464a3fb060962": {
     "views": [
      {
       "cell_index": 13
      }
     ]
    },
    "3277b3fc06b74d79b769d9de83d6045e": {
     "views": [
      {
       "cell_index": 5
      }
     ]
    },
    "37393a8089334c238b942cf6da9889b7": {
     "views": [
      {
       "cell_index": 3
      }
     ]
    },
    "6fc44ddfddec4a608643d4502e7f5a67": {
     "views": [
      {
       "cell_index": 13
      }
     ]
    },
    "7b72e55a94564c218521d03239230d27": {
     "views": [
      {
       "cell_index": 7
      }
     ]
    },
    "9a4807945ed844f4b36081f6f5752f53": {
     "views": [
      {
       "cell_index": 3
      }
     ]
    },
    "ae87e5c81f0647e0b3eccb1bc8e66e3f": {
     "views": [
      {
       "cell_index": 3
      }
     ]
    },
    "c1c03fc548154a47b8d146246c6f90f2": {
     "views": [
      {
       "cell_index": 7
      }
     ]
    },
    "d1c8d1ad84ea45bc9559d904a104dd12": {
     "views": [
      {
       "cell_index": 3
      }
     ]
    }
   },
   "version": "1.2.0"
  }
 },
 "nbformat": 4,
 "nbformat_minor": 2
}
