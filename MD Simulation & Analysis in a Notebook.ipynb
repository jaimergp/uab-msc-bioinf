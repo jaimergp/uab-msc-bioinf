{
 "cells": [
  {
   "cell_type": "markdown",
   "metadata": {},
   "source": [
    "# Molecular Dynamics Simulation and Analysis in a Notebook\n",
    "\n",
    "Python is the perfect glue language, with big emphasis on readability and an awesome ecosystem of packages for all kind of areas, ranging from web development or machine learning to the most interesting science. In this short tutorial, we will focus on molecular dynamics as provided by the [Omnia](http://www.omnia.md) project.\n",
    "\n",
    "Omnia is a compilation of diverse packages for chemistry simulations, but its main pillar is [OpenMM](http://openmm.org/): “a toolkit for molecular simulation using high performance GPU code”. While written in C++/CUDA/OpenCL, it also offers rich APIs in Python. A good number of several other packages use OpenMM or provide additional functionalities, such as [pdbfixer](https://github.com/pandegroup/pdbfixer) (preparation and cleaning), [mdtraj](http://mdtraj.org/1.8.0/) or [pytraj](https://amber-md.github.io/pytraj/) (analysis), [nglview](http://arose.github.io/nglview/latest/) (visualization), [parmed](http://parmed.github.io/ParmEd/html/index.html) (converters between different MD programs) or [openmoltools](https://github.com/choderalab/openmoltools) (a bit of everything, actually).\n",
    "\n",
    "We will use all of them at some point of the tutorial, outlined here:\n",
    "\n",
    "**Part A**\n",
    "\n",
    "1. Prepare an environment for MDs with conda\n",
    "2. Download, clean and prepare structures from PDB\n",
    "3. Set up an OpenMM MD simulation from scratch\n",
    "\n",
    "**Part B**\n",
    "\n",
    "1. Preview the MD movie in the notebook with nglview\n",
    "2. MD Analysis with pytraj or mdtraj\n",
    "3. Custom clustering with the scipy stack\n",
    "\n",
    "----------------"
   ]
  },
  {
   "cell_type": "markdown",
   "metadata": {},
   "source": [
    "# A.1 - Prepare the environment\n",
    "\n",
    "First, create a new Python 3.6 environment (with IPython & Jupyter Notebooks) and name it freely (`-n openmm`, in this case).\n",
    "\n",
    "```\n",
    "conda create -n openmm python=3.6 nomkl ipython jupyter notebook\n",
    "conda activate openmm\n",
    "```\n",
    "\n",
    "Then, you can start your own notebook by running `jupyter notebook`. But before... \n",
    "\n",
    "The following packages will be required along the tutorial:\n",
    "\n",
    "- openmm\n",
    "- mdtraj\n",
    "- pdbfixer\n",
    "- nglview\n",
    "- parmed\n",
    "- openmoltools\n",
    "\n",
    "However, they are not provided in the standard `conda` channels like `numpy` or `ipython`. They are hosted in the `omnia` channel, so we need to specify that with the `-c` switch:\n",
    "\n",
    "```\n",
    "conda install  -c omnia openmm mdtraj pdbfixer parmed openmoltools\n",
    "```\n",
    "\n",
    "`nglview` is not up-to-date in the omnia channel, but it is in `bioconda`:\n",
    "\n",
    "```\n",
    "conda install -c bioconda nglview\n",
    "# only if it does not work\n",
    "jupyter-nbextension enable nglview --py --user \n",
    "```\n",
    "\n",
    "That's it! Now, try to import this packages to test if they are correctly installed."
   ]
  },
  {
   "cell_type": "code",
   "execution_count": null,
   "metadata": {},
   "outputs": [],
   "source": [
    "!conda install -y -c omnia openmm mdtraj pdbfixer parmed openmoltools"
   ]
  },
  {
   "cell_type": "code",
   "execution_count": 7,
   "metadata": {},
   "outputs": [
    {
     "name": "stdout",
     "output_type": "stream",
     "text": [
      "Solving environment: done\n",
      "\n",
      "## Package Plan ##\n",
      "\n",
      "  environment location: /home/masterbio/miniconda3/envs/openmm\n",
      "\n",
      "  added / updated specs: \n",
      "    - ipywidgets\n",
      "    - nglview\n",
      "\n",
      "\n",
      "The following packages will be downloaded:\n",
      "\n",
      "    package                    |            build\n",
      "    ---------------------------|-----------------\n",
      "    nglview-1.0                |           py36_1         4.5 MB  conda-forge\n",
      "\n",
      "The following packages will be UPDATED:\n",
      "\n",
      "    nglview: 1.0-py36_1 bioconda --> 1.0-py36_1 conda-forge\n",
      "\n",
      "\n",
      "Downloading and Extracting Packages\n",
      "nglview 1.0: ########################################################### | 100% \n",
      "Preparing transaction: done\n",
      "Verifying transaction: done\n",
      "Executing transaction: done\n"
     ]
    }
   ],
   "source": [
    "!conda install -y -c conda-forge -c bioconda nglview ipywidgets"
   ]
  },
  {
   "cell_type": "markdown",
   "metadata": {},
   "source": [
    "# A.2 - Download and prepare your structure\n",
    "\n",
    "_Disclaimer: This tutorial is not meant as a MD crash course, but as an exercise to play with Python capabilities in science. Hence, I am not trying to be very cautious about the MD simulation itself. We will use small structures that will allow us to progress rapidly with a modest computer. Remember, we don't care about the MD, only the setup process!_\n",
    "\n",
    "To run a proper MD, we need to download the structure from some place (PDB, for example), but that's only the first step. Sometimes, the structures are not complete, or include wrong residue names. Some include non-natural residues! Depending on the origin of the files, hydrogens must be added, and depending on which kind of simulation we want to run, we might need to solvate the structure (ie, surround the molecule with a box of waters). While that can be easily attained with Chimera or another GUI programs, we are going to use Python tools... Just because.\n",
    "\n",
    "Another benefit of learning this procedure is that you could automatize the same pipeline for hundreds of files... :)\n",
    "\n",
    "So... First! Download the structure."
   ]
  },
  {
   "cell_type": "markdown",
   "metadata": {},
   "source": [
    "`1RFO` is a trimer. Let's suppose we only want to run the MD with one of the monomers... Let's pass the `parmed Structure` to `mdtraj`, which features a handy selection language."
   ]
  },
  {
   "cell_type": "code",
   "execution_count": 1,
   "metadata": {},
   "outputs": [
    {
     "name": "stderr",
     "output_type": "stream",
     "text": [
      "/home/masterbio/miniconda3/envs/openmm/lib/python3.6/site-packages/mdtraj/formats/pdb/pdbfile.py:196: UserWarning: Unlikely unit cell vectors detected in PDB file likely resulting from a dummy CRYST1 record. Discarding unit cell vectors.\n",
      "  warnings.warn('Unlikely unit cell vectors detected in PDB file likely '\n"
     ]
    },
    {
     "data": {
      "text/plain": [
       "<mdtraj.Topology with 3 chains, 81 residues, 1296 atoms, 1314 bonds at 0x7f56a80e9b38>"
      ]
     },
     "execution_count": 1,
     "metadata": {},
     "output_type": "execute_result"
    }
   ],
   "source": [
    "import mdtraj as md\n",
    "trimer = md.load_pdb('http://www.rcsb.org/pdb/files/1RFO.pdb')\n",
    "trimer.topology # evaluate to obtain relevant info"
   ]
  },
  {
   "cell_type": "code",
   "execution_count": null,
   "metadata": {},
   "outputs": [],
   "source": [
    "ThisIsAClass\n",
    "this_is_a_function"
   ]
  },
  {
   "cell_type": "code",
   "execution_count": 2,
   "metadata": {},
   "outputs": [
    {
     "data": {
      "application/vnd.jupyter.widget-view+json": {
       "model_id": "cbd8aa3a717e4fc59d05c7b8a5b389e9",
       "version_major": 2,
       "version_minor": 0
      },
      "text/html": [
       "<p>Failed to display Jupyter Widget of type <code>NGLWidget</code>.</p>\n",
       "<p>\n",
       "  If you're reading this message in the Jupyter Notebook or JupyterLab Notebook, it may mean\n",
       "  that the widgets JavaScript is still loading. If this message persists, it\n",
       "  likely means that the widgets JavaScript library is either not installed or\n",
       "  not enabled. See the <a href=\"https://ipywidgets.readthedocs.io/en/stable/user_install.html\">Jupyter\n",
       "  Widgets Documentation</a> for setup instructions.\n",
       "</p>\n",
       "<p>\n",
       "  If you're reading this message in another frontend (for example, a static\n",
       "  rendering on GitHub or <a href=\"https://nbviewer.jupyter.org/\">NBViewer</a>),\n",
       "  it may mean that your frontend doesn't currently support widgets.\n",
       "</p>\n"
      ],
      "text/plain": [
       "NGLWidget(count=10)"
      ]
     },
     "metadata": {},
     "output_type": "display_data"
    }
   ],
   "source": [
    "import nglview as nv\n",
    "nv.show_mdtraj(trimer)"
   ]
  },
  {
   "cell_type": "code",
   "execution_count": 5,
   "metadata": {},
   "outputs": [],
   "source": [
    "# Select only the first chain\n",
    "indices = trimer.topology.select('chainid 0')\n",
    "monomer = trimer.atom_slice(indices)"
   ]
  },
  {
   "cell_type": "code",
   "execution_count": 8,
   "metadata": {},
   "outputs": [
    {
     "data": {
      "text/plain": [
       "<mdtraj.Trajectory with 10 frames, 1296 atoms, 81 residues, without unitcells at 0x7f56c069a8d0>"
      ]
     },
     "execution_count": 8,
     "metadata": {},
     "output_type": "execute_result"
    }
   ],
   "source": [
    "trimer"
   ]
  },
  {
   "cell_type": "code",
   "execution_count": 6,
   "metadata": {},
   "outputs": [
    {
     "data": {
      "text/plain": [
       "<mdtraj.Trajectory with 10 frames, 432 atoms, 27 residues, without unitcells at 0x7f569915b240>"
      ]
     },
     "execution_count": 6,
     "metadata": {},
     "output_type": "execute_result"
    }
   ],
   "source": [
    "monomer"
   ]
  },
  {
   "cell_type": "code",
   "execution_count": 9,
   "metadata": {},
   "outputs": [
    {
     "data": {
      "application/vnd.jupyter.widget-view+json": {
       "model_id": "76dce74fe7f446d9a76312df81214a85",
       "version_major": 2,
       "version_minor": 0
      },
      "text/html": [
       "<p>Failed to display Jupyter Widget of type <code>NGLWidget</code>.</p>\n",
       "<p>\n",
       "  If you're reading this message in the Jupyter Notebook or JupyterLab Notebook, it may mean\n",
       "  that the widgets JavaScript is still loading. If this message persists, it\n",
       "  likely means that the widgets JavaScript library is either not installed or\n",
       "  not enabled. See the <a href=\"https://ipywidgets.readthedocs.io/en/stable/user_install.html\">Jupyter\n",
       "  Widgets Documentation</a> for setup instructions.\n",
       "</p>\n",
       "<p>\n",
       "  If you're reading this message in another frontend (for example, a static\n",
       "  rendering on GitHub or <a href=\"https://nbviewer.jupyter.org/\">NBViewer</a>),\n",
       "  it may mean that your frontend doesn't currently support widgets.\n",
       "</p>\n"
      ],
      "text/plain": [
       "NGLWidget(count=10)"
      ]
     },
     "metadata": {},
     "output_type": "display_data"
    }
   ],
   "source": [
    "# Check everything is OK\n",
    "import nglview as nv\n",
    "nv.show_mdtraj(monomer)"
   ]
  },
  {
   "cell_type": "code",
   "execution_count": 55,
   "metadata": {},
   "outputs": [
    {
     "data": {
      "text/plain": [
       "array([  4,   5,   6,   7,   8,  21,  22,  23,  24,  25,  26,  27,  28,\n",
       "        29,  38,  39,  40,  41,  42,  43,  44,  45,  46,  47,  48,  56,\n",
       "        57,  58,  59,  60,  61,  62,  72,  73,  74,  75,  76,  77,  83,\n",
       "        84,  85,  86,  87,  95,  96,  97,  98,  99, 100, 101, 113, 114,\n",
       "       115, 116, 117, 118, 119, 120, 121, 122, 123, 124, 125, 134, 135,\n",
       "       136, 137, 142, 143, 144, 154, 155, 156, 157, 158, 159, 160, 161,\n",
       "       167, 168, 169, 170, 171, 184, 185, 186, 187, 188, 189, 190, 191,\n",
       "       192, 200, 201, 202, 203, 204, 205, 206, 207, 208, 220, 221, 222,\n",
       "       223, 224, 225, 226, 227, 228, 229, 230, 231, 232, 242, 243, 244,\n",
       "       245, 246, 247, 248, 249, 250, 251, 252, 253, 254, 263, 264, 265,\n",
       "       266, 271, 272, 273, 283, 284, 285, 286, 287, 288, 303, 304, 305,\n",
       "       306, 307, 308, 309, 310, 311, 312, 320, 321, 322, 323, 324, 325,\n",
       "       326, 327, 328, 337, 338, 339, 340, 341, 342, 343, 344, 345, 346,\n",
       "       347, 356, 357, 358, 359, 360, 361, 362, 363, 364, 365, 366, 373,\n",
       "       374, 375, 376, 377, 385, 386, 387, 388, 389, 390, 391, 403, 404,\n",
       "       405, 406, 407, 408, 409, 410, 411, 421, 422, 423, 424, 425, 426,\n",
       "       427, 428, 429, 430, 431])"
      ]
     },
     "execution_count": 55,
     "metadata": {},
     "output_type": "execute_result"
    }
   ],
   "source": [
    "# Do we have hydrogens already?\n",
    "monomer.top.select('element H')"
   ]
  },
  {
   "cell_type": "markdown",
   "metadata": {},
   "source": [
    "So far, so good. Looks like the structure is ready! If it weren't, `pdbfixer` could be applied."
   ]
  },
  {
   "cell_type": "markdown",
   "metadata": {},
   "source": [
    "# A.3 - Set up an openMM calculation!\n",
    "\n",
    "The `mdtraj` objects contain all the necessary information about the molecule we need: the topology and its coordinates. We only need to choose a forcefield and then some technical details of the simulation itself."
   ]
  },
  {
   "cell_type": "code",
   "execution_count": 10,
   "metadata": {},
   "outputs": [],
   "source": [
    "from simtk import unit\n",
    "import simtk.openmm as mm\n",
    "from simtk.openmm import app\n",
    "from sys import stdout\n",
    "\n",
    "# Molecule details - atoms, connectivity and positions\n",
    "topology = monomer.top.to_openmm()\n",
    "positions = monomer.xyz[0] # we only want the first 'frame' of the molecule; ie, one of the NMR models\n",
    "\n",
    "# Simulation details - the 'rules' of the game\n",
    "forcefield = app.ForceField('amber99sbildn.xml', 'amber99_obc.xml')\n",
    "system = forcefield.createSystem(topology, nonbondedMethod=app.CutoffNonPeriodic)"
   ]
  },
  {
   "cell_type": "code",
   "execution_count": 11,
   "metadata": {},
   "outputs": [
    {
     "name": "stdout",
     "output_type": "stream",
     "text": [
      "Setting initial positions\n",
      "Minimizing...\n"
     ]
    }
   ],
   "source": [
    "integrator = mm.LangevinIntegrator(300*unit.kelvin, \n",
    "                                   1.0/unit.picoseconds, \n",
    "                                   1.0*unit.femtoseconds)\n",
    "simulation = app.Simulation(topology, system, integrator)\n",
    "\n",
    "print('Setting initial positions')\n",
    "simulation.context.setPositions(positions)\n",
    "\n",
    "print('Minimizing...')\n",
    "simulation.minimizeEnergy()"
   ]
  },
  {
   "cell_type": "code",
   "execution_count": 12,
   "metadata": {
    "scrolled": true
   },
   "outputs": [
    {
     "name": "stdout",
     "output_type": "stream",
     "text": [
      "#\"Progress (%)\"\t\"Step\"\t\"Potential Energy (kJ/mole)\"\t\"Temperature (K)\"\t\"Speed (ns/day)\"\t\"Time Remaining\"\n",
      "1.0%\t1000\t-4027.71918536094\t270.6426166591805\t0\t--\n",
      "2.0%\t2000\t-3847.12372353673\t267.81176152521937\t92.7\t1:31\n",
      "3.0%\t3000\t-3709.751856163144\t311.9099515087485\t92.2\t1:30\n",
      "4.0%\t4000\t-3628.158299411647\t306.9418460893456\t92.1\t1:30\n",
      "5.0%\t5000\t-3684.2625932563096\t319.91842367103607\t92.4\t1:28\n",
      "6.0%\t6000\t-3742.914219290018\t311.6984084817746\t92.6\t1:27\n",
      "7.0%\t7000\t-3803.5789091941842\t319.11093864813273\t92.8\t1:26\n",
      "8.0%\t8000\t-3722.3563248929568\t302.85481433573665\t92.6\t1:25\n",
      "9.0%\t9000\t-3812.5438904366456\t321.156331551849\t92.8\t1:24\n",
      "10.0%\t10000\t-3600.651781849563\t299.0200403499887\t93.1\t1:23\n",
      "11.0%\t11000\t-3710.7838138174266\t284.58366294295394\t93.3\t1:22\n",
      "12.0%\t12000\t-3784.874087117729\t288.53727036483207\t93.5\t1:21\n",
      "13.0%\t13000\t-3715.438014317304\t293.8687623773479\t93.7\t1:20\n",
      "14.0%\t14000\t-3801.537218749523\t318.75396750167533\t93.8\t1:19\n",
      "15.0%\t15000\t-3742.0752215869725\t314.90508081221725\t94.1\t1:18\n",
      "16.0%\t16000\t-3594.422542850487\t323.4623090539936\t94.1\t1:17\n",
      "17.0%\t17000\t-3711.0724577860674\t311.79493581245305\t94.2\t1:16\n",
      "18.0%\t18000\t-3625.3357526287436\t314.626831462206\t94.4\t1:15\n",
      "19.0%\t19000\t-3676.1254242463037\t317.54251439479407\t94.5\t1:14\n",
      "20.0%\t20000\t-3758.988695934415\t314.3677320537286\t94.5\t1:13\n",
      "21.0%\t21000\t-3651.262171802111\t314.0900941653814\t94.7\t1:12\n",
      "22.0%\t22000\t-3629.8014693669975\t308.2264394965364\t94.8\t1:11\n",
      "23.0%\t23000\t-3731.7599447481334\t328.8207955442831\t94.9\t1:10\n",
      "24.0%\t24000\t-3675.7475410010666\t296.46851622505625\t95\t1:09\n",
      "25.0%\t25000\t-3773.5330072173383\t302.39506489509967\t95\t1:08\n",
      "26.0%\t26000\t-3766.1782287154347\t300.6116222513683\t95.1\t1:07\n",
      "27.0%\t27000\t-3687.797529740259\t311.6874474299601\t95.1\t1:06\n",
      "28.0%\t28000\t-3666.323418501881\t300.6357227641026\t95\t1:05\n",
      "29.0%\t29000\t-3764.7393304482102\t299.1702042795353\t95\t1:04\n",
      "30.0%\t30000\t-3589.969014711678\t290.6923075712447\t95\t1:03\n",
      "31.0%\t31000\t-3711.4245850518346\t288.3876464149567\t94.9\t1:02\n",
      "32.0%\t32000\t-3771.397954426706\t300.7440241020555\t94.9\t1:01\n",
      "33.0%\t33000\t-3775.340804891661\t322.69444084389863\t95\t1:00\n",
      "34.0%\t34000\t-3645.602456741035\t302.04526545299274\t95\t1:00\n",
      "35.0%\t35000\t-3522.940709192306\t306.8791458537058\t95\t0:59\n",
      "36.0%\t36000\t-3603.4224769985303\t302.69426497801777\t95\t0:58\n",
      "37.0%\t37000\t-3541.5336900427938\t318.12769820180097\t95\t0:57\n",
      "38.0%\t38000\t-3659.8432944752276\t313.151164474471\t95\t0:56\n",
      "39.0%\t39000\t-3711.3108370527625\t304.5289567334576\t95.1\t0:55\n",
      "40.0%\t40000\t-3755.598526827991\t323.0848171827235\t95.1\t0:54\n",
      "41.0%\t41000\t-3772.62572587654\t299.70818100680765\t95.1\t0:53\n",
      "42.0%\t42000\t-3674.8102531582117\t296.35290760377757\t95.1\t0:52\n",
      "43.0%\t43000\t-3706.4035273492336\t284.77303230849515\t95.2\t0:51\n",
      "44.0%\t44000\t-3639.340015888214\t286.23481030025505\t95.1\t0:50\n",
      "45.0%\t45000\t-3823.1032765210257\t302.46263747686305\t95.1\t0:49\n",
      "46.0%\t46000\t-3705.618315382977\t310.17615121270615\t95.1\t0:49\n",
      "47.0%\t47000\t-3668.218128609471\t292.7504288267527\t95\t0:48\n",
      "48.0%\t48000\t-3692.9433872746304\t321.9461841665482\t95\t0:47\n",
      "49.0%\t49000\t-3728.8827803768218\t313.99986612580557\t95\t0:46\n",
      "50.0%\t50000\t-3650.3427148046903\t296.6419870151443\t94.9\t0:45\n",
      "51.0%\t51000\t-3768.4071392426267\t301.64019968072716\t94.9\t0:44\n",
      "52.0%\t52000\t-3712.082532390952\t304.3730427130003\t94.9\t0:43\n",
      "53.0%\t53000\t-3599.2635704707354\t287.91499415893696\t94.6\t0:42\n",
      "54.0%\t54000\t-3739.3180785551667\t306.92728946896653\t94.3\t0:42\n",
      "55.0%\t55000\t-3749.5944173578173\t296.9905193098849\t94.3\t0:41\n",
      "56.0%\t56000\t-3726.5060287490487\t309.80260245769097\t94.2\t0:40\n",
      "57.0%\t57000\t-3778.650015383959\t302.3771090759775\t94\t0:39\n",
      "58.0%\t58000\t-3768.013349753339\t311.83211638376224\t94\t0:38\n",
      "59.0%\t59000\t-3826.2632670765743\t289.7413242087638\t93.8\t0:37\n",
      "60.0%\t60000\t-3780.27355487179\t296.3723851725845\t93.8\t0:36\n",
      "61.0%\t61000\t-3749.5796623579226\t298.80571844503726\t93.7\t0:35\n",
      "62.0%\t62000\t-3750.734478102997\t288.8406610824381\t93.7\t0:35\n",
      "63.0%\t63000\t-3816.1212696544826\t285.1112558973747\t93.7\t0:34\n",
      "64.0%\t64000\t-3856.337400082499\t314.65892984595604\t93.7\t0:33\n",
      "65.0%\t65000\t-3789.6398289231583\t306.89815421871555\t93.7\t0:32\n",
      "66.0%\t66000\t-3778.336281856522\t310.92941006086306\t93.7\t0:31\n",
      "67.0%\t67000\t-3804.7737990543246\t307.7377510547079\t93.7\t0:30\n",
      "68.0%\t68000\t-3774.8525263848715\t298.625836732704\t93.7\t0:29\n",
      "69.0%\t69000\t-3776.151665404439\t295.50532204192234\t93.7\t0:28\n",
      "70.0%\t70000\t-3808.0961806327105\t297.07571019653415\t93.7\t0:27\n",
      "71.0%\t71000\t-3768.205533079803\t307.9220363850513\t93.7\t0:26\n",
      "72.0%\t72000\t-3695.507691263221\t309.2341230186188\t93.7\t0:25\n",
      "73.0%\t73000\t-3745.927166410722\t287.980379347227\t93.7\t0:24\n",
      "74.0%\t74000\t-3778.945220708847\t301.3933908054118\t93.7\t0:23\n",
      "75.0%\t75000\t-3735.543820417486\t280.5342493731052\t93.7\t0:23\n",
      "76.0%\t76000\t-3726.885609582998\t290.35539266601796\t93.7\t0:22\n",
      "77.0%\t77000\t-3700.48490241915\t283.1467760628567\t93.7\t0:21\n",
      "78.0%\t78000\t-3789.9232359621674\t287.3932117820293\t93.7\t0:20\n",
      "79.0%\t79000\t-3680.9761830456555\t303.5254268834144\t93.7\t0:19\n",
      "80.0%\t80000\t-3718.051082170743\t290.81491848171635\t93.8\t0:18\n",
      "81.0%\t81000\t-3820.535701967776\t298.5753754450008\t93.8\t0:17\n",
      "82.0%\t82000\t-3743.286617608741\t300.5107036264502\t93.8\t0:16\n",
      "83.0%\t83000\t-3710.704692660831\t309.99322589860714\t93.8\t0:15\n",
      "84.0%\t84000\t-3715.9669503523037\t316.35700031042643\t93.8\t0:14\n",
      "85.0%\t85000\t-3669.05542960763\t288.9879785919338\t93.8\t0:13\n",
      "86.0%\t86000\t-3700.730049662059\t308.8557429803133\t93.9\t0:12\n",
      "87.0%\t87000\t-3576.858612820739\t297.76158827082793\t93.9\t0:11\n",
      "88.0%\t88000\t-3654.4517242610455\t318.0545124006176\t93.9\t0:11\n",
      "89.0%\t89000\t-3673.674135731533\t310.0875882871167\t93.9\t0:10\n",
      "90.0%\t90000\t-3850.4849313907325\t300.11128913705716\t93.9\t0:09\n",
      "91.0%\t91000\t-3756.7002897001803\t286.44018340271117\t93.9\t0:08\n",
      "92.0%\t92000\t-3667.0339926620945\t280.7744388372896\t93.9\t0:07\n",
      "93.0%\t93000\t-3766.889294229448\t287.0463268294481\t94\t0:06\n",
      "94.0%\t94000\t-3649.4452470503747\t293.6392258771247\t94\t0:05\n",
      "95.0%\t95000\t-3812.9662063084543\t311.235076099028\t94\t0:04\n",
      "96.0%\t96000\t-3734.4709892000537\t306.04204086405707\t94\t0:03\n",
      "97.0%\t97000\t-3734.6806419575587\t316.1960129926982\t94.1\t0:02\n",
      "98.0%\t98000\t-3717.3597968872637\t308.0542768977627\t94.1\t0:01\n",
      "99.0%\t99000\t-3694.017414977774\t273.7127901158026\t94.1\t0:00\n",
      "100.0%\t100000\t-3655.8060788959265\t295.3717280001465\t94.1\t0:00\n"
     ]
    }
   ],
   "source": [
    "# What kind of info do we want back?\n",
    "simulation.reporters.append(app.DCDReporter('trajectory_.dcd', 1000)) # the movie file\n",
    "# some realtime data on the progress of the sim\n",
    "simulation.reporters.append(app.StateDataReporter(stdout, 1000, step=True, \n",
    "    potentialEnergy=True, temperature=True, progress=True, remainingTime=True, \n",
    "    speed=True, totalSteps=1e5, separator='\\t'))\n",
    "# Assign random but coherent vels\n",
    "simulation.context.setVelocitiesToTemperature(300*unit.kelvin) \n",
    "\n",
    "# Run the thing alrady!\n",
    "simulation.step(1e5)"
   ]
  },
  {
   "cell_type": "code",
   "execution_count": 13,
   "metadata": {},
   "outputs": [
    {
     "data": {
      "application/vnd.jupyter.widget-view+json": {
       "model_id": "1b2d4be43fd6453c9d9be73f12557be4",
       "version_major": 2,
       "version_minor": 0
      },
      "text/html": [
       "<p>Failed to display Jupyter Widget of type <code>NGLWidget</code>.</p>\n",
       "<p>\n",
       "  If you're reading this message in the Jupyter Notebook or JupyterLab Notebook, it may mean\n",
       "  that the widgets JavaScript is still loading. If this message persists, it\n",
       "  likely means that the widgets JavaScript library is either not installed or\n",
       "  not enabled. See the <a href=\"https://ipywidgets.readthedocs.io/en/stable/user_install.html\">Jupyter\n",
       "  Widgets Documentation</a> for setup instructions.\n",
       "</p>\n",
       "<p>\n",
       "  If you're reading this message in another frontend (for example, a static\n",
       "  rendering on GitHub or <a href=\"https://nbviewer.jupyter.org/\">NBViewer</a>),\n",
       "  it may mean that your frontend doesn't currently support widgets.\n",
       "</p>\n"
      ],
      "text/plain": [
       "NGLWidget(count=99)"
      ]
     },
     "metadata": {},
     "output_type": "display_data"
    }
   ],
   "source": [
    "# Did we got it right?\n",
    "traj = md.load_dcd('trajectory_.dcd', top=monomer.top)\n",
    "nv.show_mdtraj(traj)"
   ]
  },
  {
   "cell_type": "code",
   "execution_count": 16,
   "metadata": {},
   "outputs": [],
   "source": [
    "# Export PDB traj for VMD visualization\n",
    "traj.save_pdb('trajectory.pdb')"
   ]
  },
  {
   "cell_type": "markdown",
   "metadata": {},
   "source": [
    "# Trajectory analysis"
   ]
  },
  {
   "cell_type": "code",
   "execution_count": 21,
   "metadata": {},
   "outputs": [],
   "source": [
    "rmsds = md.rmsd(traj, traj)"
   ]
  },
  {
   "cell_type": "code",
   "execution_count": 22,
   "metadata": {},
   "outputs": [
    {
     "data": {
      "text/plain": [
       "array([0.        , 0.1126716 , 0.16392724, 0.17311181, 0.1977942 ,\n",
       "       0.19824512, 0.2086288 , 0.20627648, 0.19662178, 0.23100545,\n",
       "       0.23041387, 0.2209584 , 0.22186293, 0.25258598, 0.26463863,\n",
       "       0.24316356, 0.258675  , 0.25382164, 0.22148307, 0.20142841,\n",
       "       0.22140425, 0.24603117, 0.22830006, 0.22429654, 0.19343536,\n",
       "       0.19145828, 0.2083157 , 0.21061206, 0.2047941 , 0.2047765 ,\n",
       "       0.23454975, 0.23043749, 0.24596684, 0.25227228, 0.2411035 ,\n",
       "       0.24782436, 0.22821774, 0.22865933, 0.23447746, 0.23991011,\n",
       "       0.24966691, 0.25717574, 0.24726102, 0.24728273, 0.29148883,\n",
       "       0.31454432, 0.3222001 , 0.3200133 , 0.29265586, 0.24459563,\n",
       "       0.23088248, 0.22461441, 0.21586393, 0.2424659 , 0.27410272,\n",
       "       0.28382057, 0.28858677, 0.29188722, 0.2829089 , 0.29705888,\n",
       "       0.32565254, 0.3035188 , 0.27205908, 0.28298554, 0.2909712 ,\n",
       "       0.29684526, 0.2920375 , 0.29469973, 0.2955531 , 0.30800143,\n",
       "       0.30494058, 0.31315532, 0.3271433 , 0.30163354, 0.2839577 ,\n",
       "       0.29596296, 0.29705197, 0.29433516, 0.29766515, 0.29044414,\n",
       "       0.31065536, 0.29065493, 0.28746912, 0.2586474 , 0.27136466,\n",
       "       0.2706413 , 0.2619726 , 0.29118767, 0.2968298 , 0.2910052 ,\n",
       "       0.26798096, 0.28531277, 0.28426898, 0.32173625, 0.32021326,\n",
       "       0.3104081 , 0.31639284, 0.3170613 , 0.32766244], dtype=float32)"
      ]
     },
     "execution_count": 22,
     "metadata": {},
     "output_type": "execute_result"
    }
   ],
   "source": [
    "rmsds"
   ]
  },
  {
   "cell_type": "code",
   "execution_count": 23,
   "metadata": {
    "collapsed": true
   },
   "outputs": [
    {
     "name": "stdout",
     "output_type": "stream",
     "text": [
      "Solving environment: done\n",
      "\n",
      "## Package Plan ##\n",
      "\n",
      "  environment location: /home/masterbio/miniconda3/envs/openmm\n",
      "\n",
      "  added / updated specs: \n",
      "    - matplotlib\n",
      "\n",
      "\n",
      "The following packages will be downloaded:\n",
      "\n",
      "    package                    |            build\n",
      "    ---------------------------|-----------------\n",
      "    matplotlib-2.1.2           |   py36h0e671d2_0         6.7 MB\n",
      "    pyparsing-2.2.0            |   py36hee85983_1          96 KB\n",
      "    cycler-0.10.0              |   py36h93f1223_0          13 KB\n",
      "    ------------------------------------------------------------\n",
      "                                           Total:         6.8 MB\n",
      "\n",
      "The following NEW packages will be INSTALLED:\n",
      "\n",
      "    cycler:          0.10.0-py36h93f1223_0            \n",
      "    matplotlib:      2.1.2-py36h0e671d2_0             \n",
      "    pyparsing:       2.2.0-py36hee85983_1             \n",
      "\n",
      "The following packages will be UPDATED:\n",
      "\n",
      "    certifi:         2017.11.5-py36_0      conda-forge --> 2018.1.18-py36_0     \n",
      "    openssl:         1.0.2n-0              conda-forge --> 1.0.2n-hb7f436b_0    \n",
      "\n",
      "The following packages will be DOWNGRADED:\n",
      "\n",
      "    ca-certificates: 2017.11.5-0           conda-forge --> 2017.08.26-h1d4fec5_0\n",
      "\n",
      "\n",
      "Downloading and Extracting Packages\n",
      "matplotlib 2.1.2: ###################################################### | 100% \n",
      "pyparsing 2.2.0: ####################################################### | 100% \n",
      "cycler 0.10.0: ######################################################### | 100% \n",
      "Preparing transaction: done\n",
      "Verifying transaction: done\n",
      "Executing transaction: done\n"
     ]
    }
   ],
   "source": [
    "!conda install -y matplotlib"
   ]
  },
  {
   "cell_type": "code",
   "execution_count": 24,
   "metadata": {
    "collapsed": true
   },
   "outputs": [
    {
     "name": "stderr",
     "output_type": "stream",
     "text": [
      "/home/masterbio/miniconda3/envs/openmm/lib/python3.6/site-packages/matplotlib/font_manager.py:281: UserWarning: Matplotlib is building the font cache using fc-list. This may take a moment.\n",
      "  'Matplotlib is building the font cache using fc-list. '\n"
     ]
    }
   ],
   "source": [
    "from matplotlib import pyplot as plt"
   ]
  },
  {
   "cell_type": "code",
   "execution_count": 25,
   "metadata": {},
   "outputs": [],
   "source": [
    "%matplotlib notebook"
   ]
  },
  {
   "cell_type": "code",
   "execution_count": 29,
   "metadata": {},
   "outputs": [
    {
     "data": {
      "application/javascript": [
       "/* Put everything inside the global mpl namespace */\n",
       "window.mpl = {};\n",
       "\n",
       "\n",
       "mpl.get_websocket_type = function() {\n",
       "    if (typeof(WebSocket) !== 'undefined') {\n",
       "        return WebSocket;\n",
       "    } else if (typeof(MozWebSocket) !== 'undefined') {\n",
       "        return MozWebSocket;\n",
       "    } else {\n",
       "        alert('Your browser does not have WebSocket support.' +\n",
       "              'Please try Chrome, Safari or Firefox ≥ 6. ' +\n",
       "              'Firefox 4 and 5 are also supported but you ' +\n",
       "              'have to enable WebSockets in about:config.');\n",
       "    };\n",
       "}\n",
       "\n",
       "mpl.figure = function(figure_id, websocket, ondownload, parent_element) {\n",
       "    this.id = figure_id;\n",
       "\n",
       "    this.ws = websocket;\n",
       "\n",
       "    this.supports_binary = (this.ws.binaryType != undefined);\n",
       "\n",
       "    if (!this.supports_binary) {\n",
       "        var warnings = document.getElementById(\"mpl-warnings\");\n",
       "        if (warnings) {\n",
       "            warnings.style.display = 'block';\n",
       "            warnings.textContent = (\n",
       "                \"This browser does not support binary websocket messages. \" +\n",
       "                    \"Performance may be slow.\");\n",
       "        }\n",
       "    }\n",
       "\n",
       "    this.imageObj = new Image();\n",
       "\n",
       "    this.context = undefined;\n",
       "    this.message = undefined;\n",
       "    this.canvas = undefined;\n",
       "    this.rubberband_canvas = undefined;\n",
       "    this.rubberband_context = undefined;\n",
       "    this.format_dropdown = undefined;\n",
       "\n",
       "    this.image_mode = 'full';\n",
       "\n",
       "    this.root = $('<div/>');\n",
       "    this._root_extra_style(this.root)\n",
       "    this.root.attr('style', 'display: inline-block');\n",
       "\n",
       "    $(parent_element).append(this.root);\n",
       "\n",
       "    this._init_header(this);\n",
       "    this._init_canvas(this);\n",
       "    this._init_toolbar(this);\n",
       "\n",
       "    var fig = this;\n",
       "\n",
       "    this.waiting = false;\n",
       "\n",
       "    this.ws.onopen =  function () {\n",
       "            fig.send_message(\"supports_binary\", {value: fig.supports_binary});\n",
       "            fig.send_message(\"send_image_mode\", {});\n",
       "            if (mpl.ratio != 1) {\n",
       "                fig.send_message(\"set_dpi_ratio\", {'dpi_ratio': mpl.ratio});\n",
       "            }\n",
       "            fig.send_message(\"refresh\", {});\n",
       "        }\n",
       "\n",
       "    this.imageObj.onload = function() {\n",
       "            if (fig.image_mode == 'full') {\n",
       "                // Full images could contain transparency (where diff images\n",
       "                // almost always do), so we need to clear the canvas so that\n",
       "                // there is no ghosting.\n",
       "                fig.context.clearRect(0, 0, fig.canvas.width, fig.canvas.height);\n",
       "            }\n",
       "            fig.context.drawImage(fig.imageObj, 0, 0);\n",
       "        };\n",
       "\n",
       "    this.imageObj.onunload = function() {\n",
       "        fig.ws.close();\n",
       "    }\n",
       "\n",
       "    this.ws.onmessage = this._make_on_message_function(this);\n",
       "\n",
       "    this.ondownload = ondownload;\n",
       "}\n",
       "\n",
       "mpl.figure.prototype._init_header = function() {\n",
       "    var titlebar = $(\n",
       "        '<div class=\"ui-dialog-titlebar ui-widget-header ui-corner-all ' +\n",
       "        'ui-helper-clearfix\"/>');\n",
       "    var titletext = $(\n",
       "        '<div class=\"ui-dialog-title\" style=\"width: 100%; ' +\n",
       "        'text-align: center; padding: 3px;\"/>');\n",
       "    titlebar.append(titletext)\n",
       "    this.root.append(titlebar);\n",
       "    this.header = titletext[0];\n",
       "}\n",
       "\n",
       "\n",
       "\n",
       "mpl.figure.prototype._canvas_extra_style = function(canvas_div) {\n",
       "\n",
       "}\n",
       "\n",
       "\n",
       "mpl.figure.prototype._root_extra_style = function(canvas_div) {\n",
       "\n",
       "}\n",
       "\n",
       "mpl.figure.prototype._init_canvas = function() {\n",
       "    var fig = this;\n",
       "\n",
       "    var canvas_div = $('<div/>');\n",
       "\n",
       "    canvas_div.attr('style', 'position: relative; clear: both; outline: 0');\n",
       "\n",
       "    function canvas_keyboard_event(event) {\n",
       "        return fig.key_event(event, event['data']);\n",
       "    }\n",
       "\n",
       "    canvas_div.keydown('key_press', canvas_keyboard_event);\n",
       "    canvas_div.keyup('key_release', canvas_keyboard_event);\n",
       "    this.canvas_div = canvas_div\n",
       "    this._canvas_extra_style(canvas_div)\n",
       "    this.root.append(canvas_div);\n",
       "\n",
       "    var canvas = $('<canvas/>');\n",
       "    canvas.addClass('mpl-canvas');\n",
       "    canvas.attr('style', \"left: 0; top: 0; z-index: 0; outline: 0\")\n",
       "\n",
       "    this.canvas = canvas[0];\n",
       "    this.context = canvas[0].getContext(\"2d\");\n",
       "\n",
       "    var backingStore = this.context.backingStorePixelRatio ||\n",
       "\tthis.context.webkitBackingStorePixelRatio ||\n",
       "\tthis.context.mozBackingStorePixelRatio ||\n",
       "\tthis.context.msBackingStorePixelRatio ||\n",
       "\tthis.context.oBackingStorePixelRatio ||\n",
       "\tthis.context.backingStorePixelRatio || 1;\n",
       "\n",
       "    mpl.ratio = (window.devicePixelRatio || 1) / backingStore;\n",
       "\n",
       "    var rubberband = $('<canvas/>');\n",
       "    rubberband.attr('style', \"position: absolute; left: 0; top: 0; z-index: 1;\")\n",
       "\n",
       "    var pass_mouse_events = true;\n",
       "\n",
       "    canvas_div.resizable({\n",
       "        start: function(event, ui) {\n",
       "            pass_mouse_events = false;\n",
       "        },\n",
       "        resize: function(event, ui) {\n",
       "            fig.request_resize(ui.size.width, ui.size.height);\n",
       "        },\n",
       "        stop: function(event, ui) {\n",
       "            pass_mouse_events = true;\n",
       "            fig.request_resize(ui.size.width, ui.size.height);\n",
       "        },\n",
       "    });\n",
       "\n",
       "    function mouse_event_fn(event) {\n",
       "        if (pass_mouse_events)\n",
       "            return fig.mouse_event(event, event['data']);\n",
       "    }\n",
       "\n",
       "    rubberband.mousedown('button_press', mouse_event_fn);\n",
       "    rubberband.mouseup('button_release', mouse_event_fn);\n",
       "    // Throttle sequential mouse events to 1 every 20ms.\n",
       "    rubberband.mousemove('motion_notify', mouse_event_fn);\n",
       "\n",
       "    rubberband.mouseenter('figure_enter', mouse_event_fn);\n",
       "    rubberband.mouseleave('figure_leave', mouse_event_fn);\n",
       "\n",
       "    canvas_div.on(\"wheel\", function (event) {\n",
       "        event = event.originalEvent;\n",
       "        event['data'] = 'scroll'\n",
       "        if (event.deltaY < 0) {\n",
       "            event.step = 1;\n",
       "        } else {\n",
       "            event.step = -1;\n",
       "        }\n",
       "        mouse_event_fn(event);\n",
       "    });\n",
       "\n",
       "    canvas_div.append(canvas);\n",
       "    canvas_div.append(rubberband);\n",
       "\n",
       "    this.rubberband = rubberband;\n",
       "    this.rubberband_canvas = rubberband[0];\n",
       "    this.rubberband_context = rubberband[0].getContext(\"2d\");\n",
       "    this.rubberband_context.strokeStyle = \"#000000\";\n",
       "\n",
       "    this._resize_canvas = function(width, height) {\n",
       "        // Keep the size of the canvas, canvas container, and rubber band\n",
       "        // canvas in synch.\n",
       "        canvas_div.css('width', width)\n",
       "        canvas_div.css('height', height)\n",
       "\n",
       "        canvas.attr('width', width * mpl.ratio);\n",
       "        canvas.attr('height', height * mpl.ratio);\n",
       "        canvas.attr('style', 'width: ' + width + 'px; height: ' + height + 'px;');\n",
       "\n",
       "        rubberband.attr('width', width);\n",
       "        rubberband.attr('height', height);\n",
       "    }\n",
       "\n",
       "    // Set the figure to an initial 600x600px, this will subsequently be updated\n",
       "    // upon first draw.\n",
       "    this._resize_canvas(600, 600);\n",
       "\n",
       "    // Disable right mouse context menu.\n",
       "    $(this.rubberband_canvas).bind(\"contextmenu\",function(e){\n",
       "        return false;\n",
       "    });\n",
       "\n",
       "    function set_focus () {\n",
       "        canvas.focus();\n",
       "        canvas_div.focus();\n",
       "    }\n",
       "\n",
       "    window.setTimeout(set_focus, 100);\n",
       "}\n",
       "\n",
       "mpl.figure.prototype._init_toolbar = function() {\n",
       "    var fig = this;\n",
       "\n",
       "    var nav_element = $('<div/>')\n",
       "    nav_element.attr('style', 'width: 100%');\n",
       "    this.root.append(nav_element);\n",
       "\n",
       "    // Define a callback function for later on.\n",
       "    function toolbar_event(event) {\n",
       "        return fig.toolbar_button_onclick(event['data']);\n",
       "    }\n",
       "    function toolbar_mouse_event(event) {\n",
       "        return fig.toolbar_button_onmouseover(event['data']);\n",
       "    }\n",
       "\n",
       "    for(var toolbar_ind in mpl.toolbar_items) {\n",
       "        var name = mpl.toolbar_items[toolbar_ind][0];\n",
       "        var tooltip = mpl.toolbar_items[toolbar_ind][1];\n",
       "        var image = mpl.toolbar_items[toolbar_ind][2];\n",
       "        var method_name = mpl.toolbar_items[toolbar_ind][3];\n",
       "\n",
       "        if (!name) {\n",
       "            // put a spacer in here.\n",
       "            continue;\n",
       "        }\n",
       "        var button = $('<button/>');\n",
       "        button.addClass('ui-button ui-widget ui-state-default ui-corner-all ' +\n",
       "                        'ui-button-icon-only');\n",
       "        button.attr('role', 'button');\n",
       "        button.attr('aria-disabled', 'false');\n",
       "        button.click(method_name, toolbar_event);\n",
       "        button.mouseover(tooltip, toolbar_mouse_event);\n",
       "\n",
       "        var icon_img = $('<span/>');\n",
       "        icon_img.addClass('ui-button-icon-primary ui-icon');\n",
       "        icon_img.addClass(image);\n",
       "        icon_img.addClass('ui-corner-all');\n",
       "\n",
       "        var tooltip_span = $('<span/>');\n",
       "        tooltip_span.addClass('ui-button-text');\n",
       "        tooltip_span.html(tooltip);\n",
       "\n",
       "        button.append(icon_img);\n",
       "        button.append(tooltip_span);\n",
       "\n",
       "        nav_element.append(button);\n",
       "    }\n",
       "\n",
       "    var fmt_picker_span = $('<span/>');\n",
       "\n",
       "    var fmt_picker = $('<select/>');\n",
       "    fmt_picker.addClass('mpl-toolbar-option ui-widget ui-widget-content');\n",
       "    fmt_picker_span.append(fmt_picker);\n",
       "    nav_element.append(fmt_picker_span);\n",
       "    this.format_dropdown = fmt_picker[0];\n",
       "\n",
       "    for (var ind in mpl.extensions) {\n",
       "        var fmt = mpl.extensions[ind];\n",
       "        var option = $(\n",
       "            '<option/>', {selected: fmt === mpl.default_extension}).html(fmt);\n",
       "        fmt_picker.append(option)\n",
       "    }\n",
       "\n",
       "    // Add hover states to the ui-buttons\n",
       "    $( \".ui-button\" ).hover(\n",
       "        function() { $(this).addClass(\"ui-state-hover\");},\n",
       "        function() { $(this).removeClass(\"ui-state-hover\");}\n",
       "    );\n",
       "\n",
       "    var status_bar = $('<span class=\"mpl-message\"/>');\n",
       "    nav_element.append(status_bar);\n",
       "    this.message = status_bar[0];\n",
       "}\n",
       "\n",
       "mpl.figure.prototype.request_resize = function(x_pixels, y_pixels) {\n",
       "    // Request matplotlib to resize the figure. Matplotlib will then trigger a resize in the client,\n",
       "    // which will in turn request a refresh of the image.\n",
       "    this.send_message('resize', {'width': x_pixels, 'height': y_pixels});\n",
       "}\n",
       "\n",
       "mpl.figure.prototype.send_message = function(type, properties) {\n",
       "    properties['type'] = type;\n",
       "    properties['figure_id'] = this.id;\n",
       "    this.ws.send(JSON.stringify(properties));\n",
       "}\n",
       "\n",
       "mpl.figure.prototype.send_draw_message = function() {\n",
       "    if (!this.waiting) {\n",
       "        this.waiting = true;\n",
       "        this.ws.send(JSON.stringify({type: \"draw\", figure_id: this.id}));\n",
       "    }\n",
       "}\n",
       "\n",
       "\n",
       "mpl.figure.prototype.handle_save = function(fig, msg) {\n",
       "    var format_dropdown = fig.format_dropdown;\n",
       "    var format = format_dropdown.options[format_dropdown.selectedIndex].value;\n",
       "    fig.ondownload(fig, format);\n",
       "}\n",
       "\n",
       "\n",
       "mpl.figure.prototype.handle_resize = function(fig, msg) {\n",
       "    var size = msg['size'];\n",
       "    if (size[0] != fig.canvas.width || size[1] != fig.canvas.height) {\n",
       "        fig._resize_canvas(size[0], size[1]);\n",
       "        fig.send_message(\"refresh\", {});\n",
       "    };\n",
       "}\n",
       "\n",
       "mpl.figure.prototype.handle_rubberband = function(fig, msg) {\n",
       "    var x0 = msg['x0'] / mpl.ratio;\n",
       "    var y0 = (fig.canvas.height - msg['y0']) / mpl.ratio;\n",
       "    var x1 = msg['x1'] / mpl.ratio;\n",
       "    var y1 = (fig.canvas.height - msg['y1']) / mpl.ratio;\n",
       "    x0 = Math.floor(x0) + 0.5;\n",
       "    y0 = Math.floor(y0) + 0.5;\n",
       "    x1 = Math.floor(x1) + 0.5;\n",
       "    y1 = Math.floor(y1) + 0.5;\n",
       "    var min_x = Math.min(x0, x1);\n",
       "    var min_y = Math.min(y0, y1);\n",
       "    var width = Math.abs(x1 - x0);\n",
       "    var height = Math.abs(y1 - y0);\n",
       "\n",
       "    fig.rubberband_context.clearRect(\n",
       "        0, 0, fig.canvas.width, fig.canvas.height);\n",
       "\n",
       "    fig.rubberband_context.strokeRect(min_x, min_y, width, height);\n",
       "}\n",
       "\n",
       "mpl.figure.prototype.handle_figure_label = function(fig, msg) {\n",
       "    // Updates the figure title.\n",
       "    fig.header.textContent = msg['label'];\n",
       "}\n",
       "\n",
       "mpl.figure.prototype.handle_cursor = function(fig, msg) {\n",
       "    var cursor = msg['cursor'];\n",
       "    switch(cursor)\n",
       "    {\n",
       "    case 0:\n",
       "        cursor = 'pointer';\n",
       "        break;\n",
       "    case 1:\n",
       "        cursor = 'default';\n",
       "        break;\n",
       "    case 2:\n",
       "        cursor = 'crosshair';\n",
       "        break;\n",
       "    case 3:\n",
       "        cursor = 'move';\n",
       "        break;\n",
       "    }\n",
       "    fig.rubberband_canvas.style.cursor = cursor;\n",
       "}\n",
       "\n",
       "mpl.figure.prototype.handle_message = function(fig, msg) {\n",
       "    fig.message.textContent = msg['message'];\n",
       "}\n",
       "\n",
       "mpl.figure.prototype.handle_draw = function(fig, msg) {\n",
       "    // Request the server to send over a new figure.\n",
       "    fig.send_draw_message();\n",
       "}\n",
       "\n",
       "mpl.figure.prototype.handle_image_mode = function(fig, msg) {\n",
       "    fig.image_mode = msg['mode'];\n",
       "}\n",
       "\n",
       "mpl.figure.prototype.updated_canvas_event = function() {\n",
       "    // Called whenever the canvas gets updated.\n",
       "    this.send_message(\"ack\", {});\n",
       "}\n",
       "\n",
       "// A function to construct a web socket function for onmessage handling.\n",
       "// Called in the figure constructor.\n",
       "mpl.figure.prototype._make_on_message_function = function(fig) {\n",
       "    return function socket_on_message(evt) {\n",
       "        if (evt.data instanceof Blob) {\n",
       "            /* FIXME: We get \"Resource interpreted as Image but\n",
       "             * transferred with MIME type text/plain:\" errors on\n",
       "             * Chrome.  But how to set the MIME type?  It doesn't seem\n",
       "             * to be part of the websocket stream */\n",
       "            evt.data.type = \"image/png\";\n",
       "\n",
       "            /* Free the memory for the previous frames */\n",
       "            if (fig.imageObj.src) {\n",
       "                (window.URL || window.webkitURL).revokeObjectURL(\n",
       "                    fig.imageObj.src);\n",
       "            }\n",
       "\n",
       "            fig.imageObj.src = (window.URL || window.webkitURL).createObjectURL(\n",
       "                evt.data);\n",
       "            fig.updated_canvas_event();\n",
       "            fig.waiting = false;\n",
       "            return;\n",
       "        }\n",
       "        else if (typeof evt.data === 'string' && evt.data.slice(0, 21) == \"data:image/png;base64\") {\n",
       "            fig.imageObj.src = evt.data;\n",
       "            fig.updated_canvas_event();\n",
       "            fig.waiting = false;\n",
       "            return;\n",
       "        }\n",
       "\n",
       "        var msg = JSON.parse(evt.data);\n",
       "        var msg_type = msg['type'];\n",
       "\n",
       "        // Call the  \"handle_{type}\" callback, which takes\n",
       "        // the figure and JSON message as its only arguments.\n",
       "        try {\n",
       "            var callback = fig[\"handle_\" + msg_type];\n",
       "        } catch (e) {\n",
       "            console.log(\"No handler for the '\" + msg_type + \"' message type: \", msg);\n",
       "            return;\n",
       "        }\n",
       "\n",
       "        if (callback) {\n",
       "            try {\n",
       "                // console.log(\"Handling '\" + msg_type + \"' message: \", msg);\n",
       "                callback(fig, msg);\n",
       "            } catch (e) {\n",
       "                console.log(\"Exception inside the 'handler_\" + msg_type + \"' callback:\", e, e.stack, msg);\n",
       "            }\n",
       "        }\n",
       "    };\n",
       "}\n",
       "\n",
       "// from http://stackoverflow.com/questions/1114465/getting-mouse-location-in-canvas\n",
       "mpl.findpos = function(e) {\n",
       "    //this section is from http://www.quirksmode.org/js/events_properties.html\n",
       "    var targ;\n",
       "    if (!e)\n",
       "        e = window.event;\n",
       "    if (e.target)\n",
       "        targ = e.target;\n",
       "    else if (e.srcElement)\n",
       "        targ = e.srcElement;\n",
       "    if (targ.nodeType == 3) // defeat Safari bug\n",
       "        targ = targ.parentNode;\n",
       "\n",
       "    // jQuery normalizes the pageX and pageY\n",
       "    // pageX,Y are the mouse positions relative to the document\n",
       "    // offset() returns the position of the element relative to the document\n",
       "    var x = e.pageX - $(targ).offset().left;\n",
       "    var y = e.pageY - $(targ).offset().top;\n",
       "\n",
       "    return {\"x\": x, \"y\": y};\n",
       "};\n",
       "\n",
       "/*\n",
       " * return a copy of an object with only non-object keys\n",
       " * we need this to avoid circular references\n",
       " * http://stackoverflow.com/a/24161582/3208463\n",
       " */\n",
       "function simpleKeys (original) {\n",
       "  return Object.keys(original).reduce(function (obj, key) {\n",
       "    if (typeof original[key] !== 'object')\n",
       "        obj[key] = original[key]\n",
       "    return obj;\n",
       "  }, {});\n",
       "}\n",
       "\n",
       "mpl.figure.prototype.mouse_event = function(event, name) {\n",
       "    var canvas_pos = mpl.findpos(event)\n",
       "\n",
       "    if (name === 'button_press')\n",
       "    {\n",
       "        this.canvas.focus();\n",
       "        this.canvas_div.focus();\n",
       "    }\n",
       "\n",
       "    var x = canvas_pos.x * mpl.ratio;\n",
       "    var y = canvas_pos.y * mpl.ratio;\n",
       "\n",
       "    this.send_message(name, {x: x, y: y, button: event.button,\n",
       "                             step: event.step,\n",
       "                             guiEvent: simpleKeys(event)});\n",
       "\n",
       "    /* This prevents the web browser from automatically changing to\n",
       "     * the text insertion cursor when the button is pressed.  We want\n",
       "     * to control all of the cursor setting manually through the\n",
       "     * 'cursor' event from matplotlib */\n",
       "    event.preventDefault();\n",
       "    return false;\n",
       "}\n",
       "\n",
       "mpl.figure.prototype._key_event_extra = function(event, name) {\n",
       "    // Handle any extra behaviour associated with a key event\n",
       "}\n",
       "\n",
       "mpl.figure.prototype.key_event = function(event, name) {\n",
       "\n",
       "    // Prevent repeat events\n",
       "    if (name == 'key_press')\n",
       "    {\n",
       "        if (event.which === this._key)\n",
       "            return;\n",
       "        else\n",
       "            this._key = event.which;\n",
       "    }\n",
       "    if (name == 'key_release')\n",
       "        this._key = null;\n",
       "\n",
       "    var value = '';\n",
       "    if (event.ctrlKey && event.which != 17)\n",
       "        value += \"ctrl+\";\n",
       "    if (event.altKey && event.which != 18)\n",
       "        value += \"alt+\";\n",
       "    if (event.shiftKey && event.which != 16)\n",
       "        value += \"shift+\";\n",
       "\n",
       "    value += 'k';\n",
       "    value += event.which.toString();\n",
       "\n",
       "    this._key_event_extra(event, name);\n",
       "\n",
       "    this.send_message(name, {key: value,\n",
       "                             guiEvent: simpleKeys(event)});\n",
       "    return false;\n",
       "}\n",
       "\n",
       "mpl.figure.prototype.toolbar_button_onclick = function(name) {\n",
       "    if (name == 'download') {\n",
       "        this.handle_save(this, null);\n",
       "    } else {\n",
       "        this.send_message(\"toolbar_button\", {name: name});\n",
       "    }\n",
       "};\n",
       "\n",
       "mpl.figure.prototype.toolbar_button_onmouseover = function(tooltip) {\n",
       "    this.message.textContent = tooltip;\n",
       "};\n",
       "mpl.toolbar_items = [[\"Home\", \"Reset original view\", \"fa fa-home icon-home\", \"home\"], [\"Back\", \"Back to  previous view\", \"fa fa-arrow-left icon-arrow-left\", \"back\"], [\"Forward\", \"Forward to next view\", \"fa fa-arrow-right icon-arrow-right\", \"forward\"], [\"\", \"\", \"\", \"\"], [\"Pan\", \"Pan axes with left mouse, zoom with right\", \"fa fa-arrows icon-move\", \"pan\"], [\"Zoom\", \"Zoom to rectangle\", \"fa fa-square-o icon-check-empty\", \"zoom\"], [\"\", \"\", \"\", \"\"], [\"Download\", \"Download plot\", \"fa fa-floppy-o icon-save\", \"download\"]];\n",
       "\n",
       "mpl.extensions = [\"eps\", \"pdf\", \"png\", \"ps\", \"raw\", \"svg\"];\n",
       "\n",
       "mpl.default_extension = \"png\";var comm_websocket_adapter = function(comm) {\n",
       "    // Create a \"websocket\"-like object which calls the given IPython comm\n",
       "    // object with the appropriate methods. Currently this is a non binary\n",
       "    // socket, so there is still some room for performance tuning.\n",
       "    var ws = {};\n",
       "\n",
       "    ws.close = function() {\n",
       "        comm.close()\n",
       "    };\n",
       "    ws.send = function(m) {\n",
       "        //console.log('sending', m);\n",
       "        comm.send(m);\n",
       "    };\n",
       "    // Register the callback with on_msg.\n",
       "    comm.on_msg(function(msg) {\n",
       "        //console.log('receiving', msg['content']['data'], msg);\n",
       "        // Pass the mpl event to the overriden (by mpl) onmessage function.\n",
       "        ws.onmessage(msg['content']['data'])\n",
       "    });\n",
       "    return ws;\n",
       "}\n",
       "\n",
       "mpl.mpl_figure_comm = function(comm, msg) {\n",
       "    // This is the function which gets called when the mpl process\n",
       "    // starts-up an IPython Comm through the \"matplotlib\" channel.\n",
       "\n",
       "    var id = msg.content.data.id;\n",
       "    // Get hold of the div created by the display call when the Comm\n",
       "    // socket was opened in Python.\n",
       "    var element = $(\"#\" + id);\n",
       "    var ws_proxy = comm_websocket_adapter(comm)\n",
       "\n",
       "    function ondownload(figure, format) {\n",
       "        window.open(figure.imageObj.src);\n",
       "    }\n",
       "\n",
       "    var fig = new mpl.figure(id, ws_proxy,\n",
       "                           ondownload,\n",
       "                           element.get(0));\n",
       "\n",
       "    // Call onopen now - mpl needs it, as it is assuming we've passed it a real\n",
       "    // web socket which is closed, not our websocket->open comm proxy.\n",
       "    ws_proxy.onopen();\n",
       "\n",
       "    fig.parent_element = element.get(0);\n",
       "    fig.cell_info = mpl.find_output_cell(\"<div id='\" + id + \"'></div>\");\n",
       "    if (!fig.cell_info) {\n",
       "        console.error(\"Failed to find cell for figure\", id, fig);\n",
       "        return;\n",
       "    }\n",
       "\n",
       "    var output_index = fig.cell_info[2]\n",
       "    var cell = fig.cell_info[0];\n",
       "\n",
       "};\n",
       "\n",
       "mpl.figure.prototype.handle_close = function(fig, msg) {\n",
       "    var width = fig.canvas.width/mpl.ratio\n",
       "    fig.root.unbind('remove')\n",
       "\n",
       "    // Update the output cell to use the data from the current canvas.\n",
       "    fig.push_to_output();\n",
       "    var dataURL = fig.canvas.toDataURL();\n",
       "    // Re-enable the keyboard manager in IPython - without this line, in FF,\n",
       "    // the notebook keyboard shortcuts fail.\n",
       "    IPython.keyboard_manager.enable()\n",
       "    $(fig.parent_element).html('<img src=\"' + dataURL + '\" width=\"' + width + '\">');\n",
       "    fig.close_ws(fig, msg);\n",
       "}\n",
       "\n",
       "mpl.figure.prototype.close_ws = function(fig, msg){\n",
       "    fig.send_message('closing', msg);\n",
       "    // fig.ws.close()\n",
       "}\n",
       "\n",
       "mpl.figure.prototype.push_to_output = function(remove_interactive) {\n",
       "    // Turn the data on the canvas into data in the output cell.\n",
       "    var width = this.canvas.width/mpl.ratio\n",
       "    var dataURL = this.canvas.toDataURL();\n",
       "    this.cell_info[1]['text/html'] = '<img src=\"' + dataURL + '\" width=\"' + width + '\">';\n",
       "}\n",
       "\n",
       "mpl.figure.prototype.updated_canvas_event = function() {\n",
       "    // Tell IPython that the notebook contents must change.\n",
       "    IPython.notebook.set_dirty(true);\n",
       "    this.send_message(\"ack\", {});\n",
       "    var fig = this;\n",
       "    // Wait a second, then push the new image to the DOM so\n",
       "    // that it is saved nicely (might be nice to debounce this).\n",
       "    setTimeout(function () { fig.push_to_output() }, 1000);\n",
       "}\n",
       "\n",
       "mpl.figure.prototype._init_toolbar = function() {\n",
       "    var fig = this;\n",
       "\n",
       "    var nav_element = $('<div/>')\n",
       "    nav_element.attr('style', 'width: 100%');\n",
       "    this.root.append(nav_element);\n",
       "\n",
       "    // Define a callback function for later on.\n",
       "    function toolbar_event(event) {\n",
       "        return fig.toolbar_button_onclick(event['data']);\n",
       "    }\n",
       "    function toolbar_mouse_event(event) {\n",
       "        return fig.toolbar_button_onmouseover(event['data']);\n",
       "    }\n",
       "\n",
       "    for(var toolbar_ind in mpl.toolbar_items){\n",
       "        var name = mpl.toolbar_items[toolbar_ind][0];\n",
       "        var tooltip = mpl.toolbar_items[toolbar_ind][1];\n",
       "        var image = mpl.toolbar_items[toolbar_ind][2];\n",
       "        var method_name = mpl.toolbar_items[toolbar_ind][3];\n",
       "\n",
       "        if (!name) { continue; };\n",
       "\n",
       "        var button = $('<button class=\"btn btn-default\" href=\"#\" title=\"' + name + '\"><i class=\"fa ' + image + ' fa-lg\"></i></button>');\n",
       "        button.click(method_name, toolbar_event);\n",
       "        button.mouseover(tooltip, toolbar_mouse_event);\n",
       "        nav_element.append(button);\n",
       "    }\n",
       "\n",
       "    // Add the status bar.\n",
       "    var status_bar = $('<span class=\"mpl-message\" style=\"text-align:right; float: right;\"/>');\n",
       "    nav_element.append(status_bar);\n",
       "    this.message = status_bar[0];\n",
       "\n",
       "    // Add the close button to the window.\n",
       "    var buttongrp = $('<div class=\"btn-group inline pull-right\"></div>');\n",
       "    var button = $('<button class=\"btn btn-mini btn-primary\" href=\"#\" title=\"Stop Interaction\"><i class=\"fa fa-power-off icon-remove icon-large\"></i></button>');\n",
       "    button.click(function (evt) { fig.handle_close(fig, {}); } );\n",
       "    button.mouseover('Stop Interaction', toolbar_mouse_event);\n",
       "    buttongrp.append(button);\n",
       "    var titlebar = this.root.find($('.ui-dialog-titlebar'));\n",
       "    titlebar.prepend(buttongrp);\n",
       "}\n",
       "\n",
       "mpl.figure.prototype._root_extra_style = function(el){\n",
       "    var fig = this\n",
       "    el.on(\"remove\", function(){\n",
       "\tfig.close_ws(fig, {});\n",
       "    });\n",
       "}\n",
       "\n",
       "mpl.figure.prototype._canvas_extra_style = function(el){\n",
       "    // this is important to make the div 'focusable\n",
       "    el.attr('tabindex', 0)\n",
       "    // reach out to IPython and tell the keyboard manager to turn it's self\n",
       "    // off when our div gets focus\n",
       "\n",
       "    // location in version 3\n",
       "    if (IPython.notebook.keyboard_manager) {\n",
       "        IPython.notebook.keyboard_manager.register_events(el);\n",
       "    }\n",
       "    else {\n",
       "        // location in version 2\n",
       "        IPython.keyboard_manager.register_events(el);\n",
       "    }\n",
       "\n",
       "}\n",
       "\n",
       "mpl.figure.prototype._key_event_extra = function(event, name) {\n",
       "    var manager = IPython.notebook.keyboard_manager;\n",
       "    if (!manager)\n",
       "        manager = IPython.keyboard_manager;\n",
       "\n",
       "    // Check for shift+enter\n",
       "    if (event.shiftKey && event.which == 13) {\n",
       "        this.canvas_div.blur();\n",
       "        event.shiftKey = false;\n",
       "        // Send a \"J\" for go to next cell\n",
       "        event.which = 74;\n",
       "        event.keyCode = 74;\n",
       "        manager.command_mode();\n",
       "        manager.handle_keydown(event);\n",
       "    }\n",
       "}\n",
       "\n",
       "mpl.figure.prototype.handle_save = function(fig, msg) {\n",
       "    fig.ondownload(fig, null);\n",
       "}\n",
       "\n",
       "\n",
       "mpl.find_output_cell = function(html_output) {\n",
       "    // Return the cell and output element which can be found *uniquely* in the notebook.\n",
       "    // Note - this is a bit hacky, but it is done because the \"notebook_saving.Notebook\"\n",
       "    // IPython event is triggered only after the cells have been serialised, which for\n",
       "    // our purposes (turning an active figure into a static one), is too late.\n",
       "    var cells = IPython.notebook.get_cells();\n",
       "    var ncells = cells.length;\n",
       "    for (var i=0; i<ncells; i++) {\n",
       "        var cell = cells[i];\n",
       "        if (cell.cell_type === 'code'){\n",
       "            for (var j=0; j<cell.output_area.outputs.length; j++) {\n",
       "                var data = cell.output_area.outputs[j];\n",
       "                if (data.data) {\n",
       "                    // IPython >= 3 moved mimebundle to data attribute of output\n",
       "                    data = data.data;\n",
       "                }\n",
       "                if (data['text/html'] == html_output) {\n",
       "                    return [cell, data, j];\n",
       "                }\n",
       "            }\n",
       "        }\n",
       "    }\n",
       "}\n",
       "\n",
       "// Register the function which deals with the matplotlib target/channel.\n",
       "// The kernel may be null if the page has been refreshed.\n",
       "if (IPython.notebook.kernel != null) {\n",
       "    IPython.notebook.kernel.comm_manager.register_target('matplotlib', mpl.mpl_figure_comm);\n",
       "}\n"
      ],
      "text/plain": [
       "<IPython.core.display.Javascript object>"
      ]
     },
     "metadata": {},
     "output_type": "display_data"
    },
    {
     "data": {
      "text/html": [
       "<img src=\"data:image/png;base64,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\" width=\"640\">"
      ],
      "text/plain": [
       "<IPython.core.display.HTML object>"
      ]
     },
     "metadata": {},
     "output_type": "display_data"
    },
    {
     "data": {
      "text/plain": [
       "<matplotlib.collections.PathCollection at 0x7f5667b3b860>"
      ]
     },
     "execution_count": 29,
     "metadata": {},
     "output_type": "execute_result"
    }
   ],
   "source": [
    "plt.scatter(range(traj.n_frames), rmsds)"
   ]
  },
  {
   "cell_type": "code",
   "execution_count": null,
   "metadata": {},
   "outputs": [],
   "source": []
  },
  {
   "cell_type": "code",
   "execution_count": null,
   "metadata": {},
   "outputs": [],
   "source": []
  },
  {
   "cell_type": "code",
   "execution_count": null,
   "metadata": {},
   "outputs": [],
   "source": []
  },
  {
   "cell_type": "code",
   "execution_count": null,
   "metadata": {},
   "outputs": [],
   "source": []
  },
  {
   "cell_type": "code",
   "execution_count": null,
   "metadata": {},
   "outputs": [],
   "source": []
  },
  {
   "cell_type": "code",
   "execution_count": null,
   "metadata": {},
   "outputs": [],
   "source": []
  },
  {
   "cell_type": "code",
   "execution_count": null,
   "metadata": {},
   "outputs": [],
   "source": []
  }
 ],
 "metadata": {
  "kernelspec": {
   "display_name": "Python 3",
   "language": "python",
   "name": "python3"
  },
  "language_info": {
   "codemirror_mode": {
    "name": "ipython",
    "version": 3
   },
   "file_extension": ".py",
   "mimetype": "text/x-python",
   "name": "python",
   "nbconvert_exporter": "python",
   "pygments_lexer": "ipython3",
   "version": "3.6.4"
  },
  "widgets": {
   "state": {
    "01e86e7370744bf183d219a53fde39dd": {
     "views": [
      {
       "cell_index": 4
      }
     ]
    },
    "100e169efd984cfaacdbf17d3c34909f": {
     "views": [
      {
       "cell_index": 7
      }
     ]
    },
    "1dfdac9e5eec4c048ba464a3fb060962": {
     "views": [
      {
       "cell_index": 13
      }
     ]
    },
    "3277b3fc06b74d79b769d9de83d6045e": {
     "views": [
      {
       "cell_index": 5
      }
     ]
    },
    "37393a8089334c238b942cf6da9889b7": {
     "views": [
      {
       "cell_index": 3
      }
     ]
    },
    "6fc44ddfddec4a608643d4502e7f5a67": {
     "views": [
      {
       "cell_index": 13
      }
     ]
    },
    "7b72e55a94564c218521d03239230d27": {
     "views": [
      {
       "cell_index": 7
      }
     ]
    },
    "9a4807945ed844f4b36081f6f5752f53": {
     "views": [
      {
       "cell_index": 3
      }
     ]
    },
    "ae87e5c81f0647e0b3eccb1bc8e66e3f": {
     "views": [
      {
       "cell_index": 3
      }
     ]
    },
    "c1c03fc548154a47b8d146246c6f90f2": {
     "views": [
      {
       "cell_index": 7
      }
     ]
    },
    "d1c8d1ad84ea45bc9559d904a104dd12": {
     "views": [
      {
       "cell_index": 3
      }
     ]
    }
   },
   "version": "1.2.0"
  }
 },
 "nbformat": 4,
 "nbformat_minor": 2
}
