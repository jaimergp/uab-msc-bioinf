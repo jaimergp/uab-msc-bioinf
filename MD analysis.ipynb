{
 "cells": [
  {
   "cell_type": "code",
   "execution_count": 1,
   "metadata": {
    "collapsed": false
   },
   "outputs": [
    {
     "name": "stderr",
     "output_type": "stream",
     "text": [
      "You have used an unregistered copy of Chimera for 117 days.\n",
      "You can either register now by visiting:\n",
      "   http://www.cgl.ucsf.edu/cgi-bin/chimera_registration.py\n",
      "or by choosing 'Registration...' from the 'Help' menu next\n",
      "time you start Chimera with the gui enabled.\n",
      "\n",
      "Registration is free.  By providing the information requested\n",
      "you will be helping us document the impact this software is\n",
      "having in the scientific community. The information you supply\n",
      "will only be used for reporting summary statistics to NIH.\n"
     ]
    }
   ],
   "source": [
    "# Run this cell to complete Chimera initialization\n",
    "from pychimera import enable_chimera, enable_chimera_inline, chimera_view\n",
    "enable_chimera()\n",
    "enable_chimera_inline()\n",
    "import chimera"
   ]
  },
  {
   "cell_type": "code",
   "execution_count": 147,
   "metadata": {
    "collapsed": true
   },
   "outputs": [],
   "source": [
    "import os\n",
    "from glob import glob\n",
    "%matplotlib inline\n",
    "from openmoltools.amber import run_antechamber\n",
    "from openmoltools.utils import create_ffxml_file\n",
    "import numpy as np\n",
    "import mdtraj as md\n",
    "import matplotlib.pyplot as plt\n",
    "import scipy.cluster.hierarchy\n",
    "from scipy.spatial.distance import squareform\n",
    "import nglview as nv\n",
    "\n",
    "from gaudi.base import MolecularIndividual as Individual, expressed\n",
    "from gaudi.genes.molecule import Molecule\n",
    "from gaudi.objectives.energy import Energy"
   ]
  },
  {
   "cell_type": "markdown",
   "metadata": {},
   "source": [
    "## Parametrize GPG and GPGG peptides\n",
    "Careful, each can take up to four hours"
   ]
  },
  {
   "cell_type": "code",
   "execution_count": null,
   "metadata": {
    "collapsed": true
   },
   "outputs": [],
   "source": [
    "# Parametrize GPG\n",
    "gpg_mol2 = './in2/peptide_GPG.mol2'\n",
    "run_antechamber('GPG', gpg_mol2, net_charge=-6)\n",
    "\n",
    "# Parametrize GPGG\n",
    "gpgg_mol2 = './in2/peptide_GPGG.mol2'\n",
    "run_antechamber('GPGG', gpgg_mol2, net_charge=-6)"
   ]
  },
  {
   "cell_type": "code",
   "execution_count": null,
   "metadata": {
    "collapsed": true
   },
   "outputs": [],
   "source": [
    "# Create ffxml\n",
    "create_ffxml_file(['GPG.gaff.mol2', 'GPGG.gaff.mol2'], \n",
    "                  ['GPG.frcmod', 'GPGG.frcmod'], \n",
    "                  ffxml_filename='peptide_GPG+GPGG.ffxml')"
   ]
  },
  {
   "cell_type": "markdown",
   "metadata": {},
   "source": [
    "## Evaluate MM energy of top 25 solutions of each topology"
   ]
  },
  {
   "cell_type": "code",
   "execution_count": 241,
   "metadata": {
    "collapsed": false
   },
   "outputs": [],
   "source": [
    "# GAUDI helpers\n",
    "def individual(path):\n",
    "    ind = Individual(dummy=True)\n",
    "    ind.genes['Molecule'] = Molecule(parent=ind, path=path)\n",
    "    ind.__ready__()\n",
    "    ind.__expression_hooks__()\n",
    "    return ind\n",
    "\n",
    "def evaluate(individual, forcefields=['amber99sbildn.xml']):\n",
    "    energy = Energy(forcefields=forcefields)\n",
    "    with expressed(individual):\n",
    "        return energy.evaluate(individual)"
   ]
  },
  {
   "cell_type": "code",
   "execution_count": 242,
   "metadata": {
    "collapsed": false
   },
   "outputs": [
    {
     "name": "stdout",
     "output_type": "stream",
     "text": [
      "GPG  - avg: 5801.41674487 , std: 352.957104253\n",
      "GPGG - avg: 7489.02147331 , std: 191.572993893\n",
      "\n",
      "('GPG', 'GPGG')\n",
      "(6026.395157986076, 7661.691899638276)\n",
      "(6019.572629594321, 7688.671696854046)\n",
      "(5561.459514308079, 7427.613459392984)\n",
      "(5505.637447665538, 7348.168947731534)\n",
      "(5900.735420846696, 8112.7705092466895)\n",
      "(5727.266698101513, 7364.368443961248)\n",
      "(5655.101042710083, 7705.6672945276005)\n",
      "(5681.5079963099215, 7459.081163368103)\n",
      "(5649.752338170052, 7509.395261457181)\n",
      "(7144.765921586235, 7474.713497463948)\n",
      "(5645.335591634538, 7459.943658702725)\n",
      "(6023.659457399702, 7322.4690442041565)\n",
      "(5801.002930685782, 7629.507360046686)\n",
      "(5642.294004446547, 7373.106332529927)\n",
      "(5890.132765044309, 7331.553366147786)\n",
      "(5519.808092546102, 7253.217202005597)\n",
      "(5624.562725488584, 7285.436057770814)\n",
      "(6268.164930379419, 7302.9033641479)\n",
      "(5501.492434356542, 7534.862150379209)\n",
      "(5611.745393778788, 7345.6696908752565)\n",
      "(5631.572981323421, 7640.326399833466)\n",
      "(6394.85506848891, 7573.701879812117)\n",
      "(5529.117441123815, 7359.638365860206)\n",
      "(5672.035692774471, 7451.450364556626)\n",
      "(5548.667848348906, 7785.413882470439)\n",
      "(5660.193841459471, 7313.217013014841)\n"
     ]
    }
   ],
   "source": [
    "forcefields = ['amber99sbildn.xml', 'MD/in/peptide_GPG+GPGG.ffxml'] # provided by parametrization\n",
    "gpg_energy = []\n",
    "for path in sorted(os.listdir('output_gpg_2/best_pdb/')):\n",
    "    gpg_energy.append(evaluate(individual(os.path.join('output_gpg_2/best_pdb/', path)), forcefields))\n",
    "\n",
    "gpgg_energy = []\n",
    "for path in sorted(os.listdir('output_gpgg_2/best_pdb/')):\n",
    "    gpgg_energy.append(evaluate(individual(os.path.join('output_gpgg_2/best_pdb/', path)), forcefields))\n",
    "  \n",
    "\n",
    "# Results\n",
    "print \"GPG  - avg:\", np.mean(gpg_energy), \", std:\", np.std(gpg_energy)\n",
    "print \"GPGG - avg:\", np.mean(gpgg_energy), \", std:\", np.std(gpgg_energy)\n",
    "print '\\n', (\"GPG\", \"GPGG\")\n",
    "print '\\n'.join(map(str, zip(gpg_energy, gpgg_energy)))\n"
   ]
  },
  {
   "cell_type": "markdown",
   "metadata": {},
   "source": [
    "# Trajectory analysis\n",
    "Compare energies to those of unbound peptide, as provided by long MD simulations"
   ]
  },
  {
   "cell_type": "code",
   "execution_count": 283,
   "metadata": {
    "collapsed": false
   },
   "outputs": [],
   "source": [
    "def load_traj(traj, top, stride=1):\n",
    "    gpg_traj = md.load(sorted(glob(traj)), top=top, stride=10)\n",
    "    gpg_traj = gpg_traj.center_coordinates()\n",
    "    return gpg_traj.superpose(gpg_traj)\n",
    "\n",
    "def rmsd(traj):\n",
    "    distances = np.empty((traj.n_frames, traj.n_frames))\n",
    "    for i in xrange(traj.n_frames):\n",
    "        distances[i] = md.rmsd(traj, traj, i, precentered=True)\n",
    "    return distances\n",
    "\n",
    "def clustering(distances):\n",
    "    # Clustering only accepts reduced form. Squareform's checks are too stringent\n",
    "    return scipy.cluster.hierarchy.ward(distances)\n",
    "\n",
    "def cluster_groups(linkage, n=10):\n",
    "    labels = scipy.cluster.hierarchy.fcluster(linkage, t=n, criterion='maxclust')\n",
    "    indices = []\n",
    "    frames = np.arange(gpg_traj.n_frames)\n",
    "    for i in xrange(1, 11):\n",
    "        indices.append(frames[labels==i])\n",
    "    return indices\n",
    "\n",
    "def rmsd_per_cluster(traj, labels):\n",
    "    rmsds = []\n",
    "    print \"#\\tSize \\tAvg RMSD\\tStd\"\n",
    "    for i, j in enumerate(labels):\n",
    "        rmsd = md.rmsd(traj[j], traj[j], precentered=True)\n",
    "        rmsds.append(rmsd)\n",
    "        print i+1, \"\\t\", len(j), \"\\t\", np.mean(rmsd), \"\\t\", np.std(rmsd)\n",
    "    return rmsds\n",
    "        \n",
    "def cluster_plot(linkage):\n",
    "    return scipy.cluster.hierarchy.dendrogram(linkage, no_labels=True, count_sort='descendent')\n",
    "\n",
    "# Compute all energies!\n",
    "def energy_evaluation(topology_pickle, traj):\n",
    "    energy = Energy(forcefields=['amber99sbildn.xml', 'MD/in/peptide_GPG+GPGG.ffxml'])\n",
    "    # Openmm keeps insisting on adding more bonds than needed if we use `traj.topology.to_openmm()`\n",
    "    with open(topology_pickle, 'rb') as f:\n",
    "        energy.topology = pickle.load(f)\n",
    "\n",
    "    energies = np.empty(traj.n_frames)\n",
    "    for i in xrange(traj.n_frames):\n",
    "        energies[i] = energy.calculate_energy(traj.openmm_positions(i))\n",
    "\n",
    "    for i, index in enumerate(indices):\n",
    "        print i+1, \"\\t\", np.mean(energies[index]), \"\\t\", np.std(energies[index])\n",
    "\n",
    "    return energies"
   ]
  },
  {
   "cell_type": "markdown",
   "metadata": {},
   "source": [
    "## GPG Trajectory"
   ]
  },
  {
   "cell_type": "code",
   "execution_count": 268,
   "metadata": {
    "collapsed": false
   },
   "outputs": [],
   "source": [
    "# Load trajectory\n",
    "gpg_traj = load_traj('MD/out_gpg/GPG_production.*.dcd', 'MD/in/GPG.pdb', 10)"
   ]
  },
  {
   "cell_type": "code",
   "execution_count": null,
   "metadata": {
    "collapsed": true
   },
   "outputs": [],
   "source": [
    "gpg_distances = rmsd(gpg_traj)\n",
    "gpg_linkage = clustering(gpg_distances)\n",
    "gpg_clusters = cluster_groups(gpg_linkage)"
   ]
  },
  {
   "cell_type": "code",
   "execution_count": 284,
   "metadata": {
    "collapsed": false
   },
   "outputs": [
    {
     "name": "stdout",
     "output_type": "stream",
     "text": [
      "#\tSize \tAvg RMSD\tStd\n",
      "1 \t450 \t0.229327 \t0.0262471\n",
      "2 \t711 \t0.324367 \t0.0524819\n",
      "3 \t775 \t0.170943 \t0.0271215\n",
      "4 \t890 \t0.236349 \t0.0441672\n",
      "5 \t249 \t0.242863 \t0.0565465\n",
      "6 \t460 \t0.235447 \t0.0359178\n",
      "7 \t691 \t0.214758 \t0.0459535\n",
      "8 \t252 \t0.31716 \t0.104349\n",
      "9 \t233 \t0.291823 \t0.0611173\n",
      "10 \t239 \t0.333355 \t0.0475992\n"
     ]
    }
   ],
   "source": [
    "gpg_rmsd_per_cluster = rmsd_per_cluster(gpg_traj, gpg_clusters)"
   ]
  },
  {
   "cell_type": "code",
   "execution_count": 248,
   "metadata": {
    "collapsed": false
   },
   "outputs": [
    {
     "name": "stdout",
     "output_type": "stream",
     "text": [
      "1 \t2853.36838563 \t34.394501537\n",
      "2 \t2862.4676023 \t39.527831472\n",
      "3 \t2914.82998652 \t32.1596042622\n",
      "4 \t2920.11947273 \t33.7717251613\n",
      "5 \t2926.69752215 \t34.1158017029\n",
      "6 \t2918.62172293 \t33.7502508198\n",
      "7 \t2918.12699048 \t34.5373022673\n",
      "8 \t2910.42453312 \t41.8699505854\n",
      "9 \t2930.15041651 \t35.3301399394\n",
      "10 \t2890.69176451 \t39.8193723896\n"
     ]
    }
   ],
   "source": [
    "gpg_energies = energy_evaluation('MD/in/gpg_top.pickle2', gpg_traj)"
   ]
  },
  {
   "cell_type": "code",
   "execution_count": 263,
   "metadata": {
    "collapsed": false,
    "scrolled": true
   },
   "outputs": [
    {
     "data": {
      "image/png": "[encoded data removed]",
      "text/plain": [
       "<matplotlib.figure.Figure at 0x7f89394da050>"
      ]
     },
     "metadata": {},
     "output_type": "display_data"
    }
   ],
   "source": [
    "_ = plot(gpg_linkage)"
   ]
  },
  {
   "cell_type": "code",
   "execution_count": 309,
   "metadata": {
    "collapsed": true
   },
   "outputs": [],
   "source": [
    "# View a given cluster gorup\n",
    "gpg_v = nv.show_mdtraj(gpg_traj[gpg_clusters[3]])\n",
    "gpg_v.add_ball_and_stick()\n",
    "gpg_v"
   ]
  },
  {
   "cell_type": "code",
   "execution_count": 340,
   "metadata": {
    "collapsed": true
   },
   "outputs": [],
   "source": [
    "gpg_v.render_image(frame=0, factor=0.5)\n",
    "gpg_v.get_image()"
   ]
  },
  {
   "cell_type": "markdown",
   "metadata": {},
   "source": [
    "## GPGG trajectory"
   ]
  },
  {
   "cell_type": "code",
   "execution_count": 281,
   "metadata": {
    "collapsed": true
   },
   "outputs": [],
   "source": [
    "gpgg_traj = load_traj('MD/out_gpgg/GPGG_production.*.dcd', 'MD/in/GPGG.pdb', 10)\n",
    "gpgg_distances = rmsd(gpgg_traj)\n",
    "gpgg_linkage = clustering(gpgg_distances)\n",
    "gpgg_clusters = cluster_groups(gpgg_linkage)"
   ]
  },
  {
   "cell_type": "code",
   "execution_count": 285,
   "metadata": {
    "collapsed": false
   },
   "outputs": [
    {
     "name": "stdout",
     "output_type": "stream",
     "text": [
      "#\tSize \tAvg RMSD\tStd\n",
      "1 \t618 \t0.126711 \t0.0319571\n",
      "2 \t420 \t0.171982 \t0.0310005\n",
      "3 \t1148 \t0.151698 \t0.0240594\n",
      "4 \t860 \t0.168242 \t0.0503439\n",
      "5 \t417 \t0.24033 \t0.0819223\n",
      "6 \t50 \t0.349584 \t0.0625099\n",
      "7 \t170 \t0.224965 \t0.0612433\n",
      "8 \t422 \t0.297485 \t0.0697697\n",
      "9 \t509 \t0.23584 \t0.0500347\n",
      "10 \t336 \t0.278733 \t0.10652\n"
     ]
    }
   ],
   "source": [
    "gpgg_rmsd_per_cluster = rmsd_per_cluster(gpgg_traj, gpgg_clusters)"
   ]
  },
  {
   "cell_type": "code",
   "execution_count": 286,
   "metadata": {
    "collapsed": false
   },
   "outputs": [
    {
     "name": "stdout",
     "output_type": "stream",
     "text": [
      "1 \t2930.13230474 \t37.7537823348\n",
      "2 \t2931.58967883 \t35.1762910393\n",
      "3 \t2934.79073629 \t37.2335746511\n",
      "4 \t2931.20317947 \t38.1451119308\n",
      "5 \t2934.32816576 \t40.23206645\n",
      "6 \t2932.59533132 \t35.7767889041\n",
      "7 \t2933.1065697 \t36.328772533\n",
      "8 \t2936.87191834 \t39.4444404194\n",
      "9 \t2937.46033615 \t37.2712733116\n",
      "10 \t2926.88231848 \t34.8737767293\n"
     ]
    }
   ],
   "source": [
    "gpgg_energies = energy_evaluation('MD/in/gpgg_top.pickle2', gpgg_traj)"
   ]
  },
  {
   "cell_type": "code",
   "execution_count": 287,
   "metadata": {
    "collapsed": false
   },
   "outputs": [
    {
     "data": {
      "image/png": "[encoded data removed]",
      "text/plain": [
       "<matplotlib.figure.Figure at 0x7f893001fb90>"
      ]
     },
     "metadata": {},
     "output_type": "display_data"
    }
   ],
   "source": [
    "_ = plot(gpgg_linkage)"
   ]
  },
  {
   "cell_type": "code",
   "execution_count": 320,
   "metadata": {
    "collapsed": false
   },
   "outputs": [],
   "source": [
    "gpgg_v = nv.show_mdtraj(gpgg_traj[gpgg_clusters[2]])\n",
    "gpgg_v.add_ball_and_stick()\n",
    "gpgg_v"
   ]
  },
  {
   "cell_type": "code",
   "execution_count": 333,
   "metadata": {
    "collapsed": true
   },
   "outputs": [],
   "source": [
    "gpgg_v.render_image(frame=0, factor=0.5)\n",
    "gpgg_v.get_image()"
   ]
  }
 ],
 "metadata": {
  "anaconda-cloud": {},
  "kernelspec": {
   "display_name": "Python 2",
   "language": "python",
   "name": "python2"
  },
  "language_info": {
   "codemirror_mode": {
    "name": "ipython",
    "version": 2
   },
   "file_extension": ".py",
   "mimetype": "text/x-python",
   "name": "python",
   "nbconvert_exporter": "python",
   "pygments_lexer": "ipython2",
   "version": "2.7.12"
  }
 },
 "nbformat": 4,
 "nbformat_minor": 1
}
